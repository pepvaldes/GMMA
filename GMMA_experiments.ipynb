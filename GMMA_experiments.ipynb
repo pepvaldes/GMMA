{
 "cells": [
  {
   "cell_type": "markdown",
   "id": "f88ad6db-2139-499f-a0d5-7dd72defe1ac",
   "metadata": {},
   "source": [
    "## Experiments - GMMA"
   ]
  },
  {
   "cell_type": "code",
   "execution_count": 1,
   "id": "b172ff4b-c8e3-4af3-a3bf-9a27a368b1bd",
   "metadata": {},
   "outputs": [],
   "source": [
    "import pandas as pd\n",
    "import numpy as np\n",
    "import matplotlib.pyplot as plt\n",
    "import seaborn as sns\n",
    "import time\n",
    "\n",
    "from sklearn.preprocessing import MinMaxScaler\n",
    "from sklearn.decomposition import PCA\n",
    "from sklearn.metrics.pairwise import cosine_similarity\n",
    "from sklearn.model_selection import train_test_split"
   ]
  },
  {
   "cell_type": "code",
   "execution_count": 2,
   "id": "b336b50f-70ac-468e-b14c-7191d68d4868",
   "metadata": {},
   "outputs": [],
   "source": [
    "events = pd.read_csv('data/events_filtered.csv')\n",
    "events_beyms = pd.read_csv('data/beyms_events.csv')\n",
    "events_ms = pd.read_csv('data/ms_events.csv')\n",
    "country_idf = pd.read_csv('data/country_idf.csv')\n",
    "tracks_idf = pd.read_csv('data/tracks_idf.csv')\n",
    "tracks_sample = pd.read_csv('data/all_tracks_sample.csv') \n",
    "tracks = pd.read_csv('data/LFM-1b_tracks.txt', sep=\"\\t\", header=None, names=['track_id','track','artist_id'])\n",
    "artists = pd.read_csv('data/LFM-1b_artists.txt', sep=\"\\t\", header=None, names=['artist_id','artist'])\n",
    "acoustic_features = pd.read_csv('data/acoustic_features_lfm_id.tsv', sep='\\t')"
   ]
  },
  {
   "cell_type": "code",
   "execution_count": 3,
   "id": "400a1be5-ec19-47d9-adfe-fe561dcad2fc",
   "metadata": {},
   "outputs": [
    {
     "data": {
      "text/plain": [
       "2074"
      ]
     },
     "execution_count": 3,
     "metadata": {},
     "output_type": "execute_result"
    }
   ],
   "source": [
    "len(events_ms['user_id'].drop_duplicates())"
   ]
  },
  {
   "cell_type": "code",
   "execution_count": 4,
   "id": "88cbb76b-9f76-4edd-b4fd-0107d0d5c486",
   "metadata": {},
   "outputs": [
    {
     "data": {
      "text/plain": [
       "2073"
      ]
     },
     "execution_count": 4,
     "metadata": {},
     "output_type": "execute_result"
    }
   ],
   "source": [
    "len(events_beyms['user_id'].drop_duplicates())"
   ]
  },
  {
   "cell_type": "markdown",
   "id": "b395d8ef-d07a-4e42-b03a-97d72538e608",
   "metadata": {},
   "source": [
    "### Preprocessing"
   ]
  },
  {
   "cell_type": "code",
   "execution_count": 5,
   "id": "7db130ad-1fba-4705-8e94-c05fe1a4927e",
   "metadata": {},
   "outputs": [
    {
     "data": {
      "text/html": [
       "<div>\n",
       "<style scoped>\n",
       "    .dataframe tbody tr th:only-of-type {\n",
       "        vertical-align: middle;\n",
       "    }\n",
       "\n",
       "    .dataframe tbody tr th {\n",
       "        vertical-align: top;\n",
       "    }\n",
       "\n",
       "    .dataframe thead th {\n",
       "        text-align: right;\n",
       "    }\n",
       "</style>\n",
       "<table border=\"1\" class=\"dataframe\">\n",
       "  <thead>\n",
       "    <tr style=\"text-align: right;\">\n",
       "      <th></th>\n",
       "      <th>danceability</th>\n",
       "      <th>energy</th>\n",
       "      <th>speechiness</th>\n",
       "      <th>acousticness</th>\n",
       "      <th>instrumentalness</th>\n",
       "      <th>tempo</th>\n",
       "      <th>valence</th>\n",
       "      <th>liveness</th>\n",
       "      <th>idf_scores</th>\n",
       "      <th>track_id</th>\n",
       "    </tr>\n",
       "  </thead>\n",
       "  <tbody>\n",
       "    <tr>\n",
       "      <th>0</th>\n",
       "      <td>0.534604</td>\n",
       "      <td>0.399990</td>\n",
       "      <td>0.003905</td>\n",
       "      <td>0.905622</td>\n",
       "      <td>0.91000</td>\n",
       "      <td>0.526916</td>\n",
       "      <td>0.563996</td>\n",
       "      <td>0.105751</td>\n",
       "      <td>0.078057</td>\n",
       "      <td>299887</td>\n",
       "    </tr>\n",
       "    <tr>\n",
       "      <th>1</th>\n",
       "      <td>0.546640</td>\n",
       "      <td>0.719995</td>\n",
       "      <td>0.023749</td>\n",
       "      <td>0.000801</td>\n",
       "      <td>0.00000</td>\n",
       "      <td>0.704192</td>\n",
       "      <td>0.801998</td>\n",
       "      <td>0.204329</td>\n",
       "      <td>0.171041</td>\n",
       "      <td>3869192</td>\n",
       "    </tr>\n",
       "    <tr>\n",
       "      <th>2</th>\n",
       "      <td>0.628887</td>\n",
       "      <td>0.591993</td>\n",
       "      <td>0.003694</td>\n",
       "      <td>0.182731</td>\n",
       "      <td>0.00808</td>\n",
       "      <td>0.560200</td>\n",
       "      <td>0.387994</td>\n",
       "      <td>0.076278</td>\n",
       "      <td>0.233921</td>\n",
       "      <td>3398243</td>\n",
       "    </tr>\n",
       "    <tr>\n",
       "      <th>3</th>\n",
       "      <td>0.514544</td>\n",
       "      <td>0.511992</td>\n",
       "      <td>0.004644</td>\n",
       "      <td>0.002219</td>\n",
       "      <td>0.09760</td>\n",
       "      <td>0.439788</td>\n",
       "      <td>0.373994</td>\n",
       "      <td>0.073361</td>\n",
       "      <td>0.078057</td>\n",
       "      <td>1214807</td>\n",
       "    </tr>\n",
       "    <tr>\n",
       "      <th>4</th>\n",
       "      <td>0.295888</td>\n",
       "      <td>0.497991</td>\n",
       "      <td>0.008972</td>\n",
       "      <td>0.798193</td>\n",
       "      <td>0.94400</td>\n",
       "      <td>0.356192</td>\n",
       "      <td>0.039890</td>\n",
       "      <td>0.101727</td>\n",
       "      <td>0.218190</td>\n",
       "      <td>29635532</td>\n",
       "    </tr>\n",
       "  </tbody>\n",
       "</table>\n",
       "</div>"
      ],
      "text/plain": [
       "   danceability    energy  speechiness  acousticness  instrumentalness  \\\n",
       "0      0.534604  0.399990     0.003905      0.905622           0.91000   \n",
       "1      0.546640  0.719995     0.023749      0.000801           0.00000   \n",
       "2      0.628887  0.591993     0.003694      0.182731           0.00808   \n",
       "3      0.514544  0.511992     0.004644      0.002219           0.09760   \n",
       "4      0.295888  0.497991     0.008972      0.798193           0.94400   \n",
       "\n",
       "      tempo   valence  liveness  idf_scores  track_id  \n",
       "0  0.526916  0.563996  0.105751    0.078057    299887  \n",
       "1  0.704192  0.801998  0.204329    0.171041   3869192  \n",
       "2  0.560200  0.387994  0.076278    0.233921   3398243  \n",
       "3  0.439788  0.373994  0.073361    0.078057   1214807  \n",
       "4  0.356192  0.039890  0.101727    0.218190  29635532  "
      ]
     },
     "execution_count": 5,
     "metadata": {},
     "output_type": "execute_result"
    }
   ],
   "source": [
    "# Features\n",
    "featuresdf = pd.merge(acoustic_features[acoustic_features['track_id'].isin(tracks_sample['track_id'])], tracks_idf, on=['track_id'])\n",
    "features_df = featuresdf[[\"danceability\", \"energy\", \"speechiness\", \"acousticness\", \"instrumentalness\", \"tempo\", \"valence\", \"liveness\", \"idf_scores\"]]\n",
    "features_df = pd.DataFrame(index=features_df.index, columns=features_df.columns, data=MinMaxScaler().fit_transform(features_df))\n",
    "features_df['track_id'] = featuresdf['track_id']\n",
    "features_df.head()"
   ]
  },
  {
   "cell_type": "code",
   "execution_count": 6,
   "id": "4785c496-f3fe-45b4-b6cc-27745080c7be",
   "metadata": {},
   "outputs": [],
   "source": [
    "events = events[events['track_id'].isin(tracks_sample['track_id'])]\n",
    "listening_counts = events[['user_id','track_id','artist_country_id']].groupby(['user_id','track_id']).value_counts().reset_index() # 5,329,179\n",
    "listening_counts = listening_counts.rename(columns={0:'count'})\n",
    "listening_counts = pd.merge(pd.merge(listening_counts, tracks, on=['track_id'], how='left'), artists, on=['artist_id'], how='left')\n",
    "listening_counts = pd.merge(listening_counts, country_idf, left_on='artist_country_id', right_on='country_id', how='left')"
   ]
  },
  {
   "cell_type": "code",
   "execution_count": 7,
   "id": "522a8c23-c918-4378-883b-8622536bd86c",
   "metadata": {},
   "outputs": [],
   "source": [
    "# Removing missing tracks names\n",
    "features_df = features_df[~features_df['track_id'].isin(listening_counts[listening_counts['track'].isna()]['track_id'])]\n",
    "listening_counts = listening_counts.dropna() \n",
    "listening_counts['song'] = listening_counts['track'].map(str) + \" - \" + listening_counts['artist'] + \" (\" + listening_counts['Code'] + \")\"\n",
    "tracks_counts = listening_counts.groupby(['track_id','song', 'Code']).agg({'count':'count'}).sort_values(by='count',ascending=False).reset_index()"
   ]
  },
  {
   "cell_type": "code",
   "execution_count": 8,
   "id": "c8db65b9-6b41-4993-9d97-ce76842ca7e5",
   "metadata": {},
   "outputs": [],
   "source": [
    "# Metada for results\n",
    "tracks_meta = pd.merge(listening_counts[['track_id', 'song','artist_country_id']].drop_duplicates(), country_idf, left_on='artist_country_id', right_on='country_id', how='left')\n",
    "tracks_meta = pd.merge(tracks_meta, tracks_sample[['track_id','group']], on='track_id', how='left')"
   ]
  },
  {
   "cell_type": "code",
   "execution_count": 9,
   "id": "d8626298-52e0-4e0a-9c98-cbbdd8839838",
   "metadata": {},
   "outputs": [],
   "source": [
    "features_df = features_df[features_df['track_id'].isin(tracks_meta['track_id'])]"
   ]
  },
  {
   "cell_type": "code",
   "execution_count": 10,
   "id": "5a9932bf-296e-445e-9740-29d4b99f47e2",
   "metadata": {},
   "outputs": [],
   "source": [
    "# Train data\n",
    "train = features_df[[\"danceability\", \"energy\", \"speechiness\", \"acousticness\", \"instrumentalness\", \"tempo\", \"valence\", \"liveness\", \"idf_scores\"]]\n",
    "train_non = features_df[[\"danceability\", \"energy\", \"speechiness\", \"acousticness\", \"instrumentalness\", \"tempo\", \"valence\", \"liveness\"]]\n",
    "train_non = np.nan_to_num(train_non)\n",
    "train = np.nan_to_num(train)"
   ]
  },
  {
   "cell_type": "code",
   "execution_count": 11,
   "id": "6994d3d0-933f-496e-aa2c-3769a6d08aa5",
   "metadata": {},
   "outputs": [],
   "source": [
    "items = listening_counts['track_id'].unique()"
   ]
  },
  {
   "cell_type": "markdown",
   "id": "b5a35f63-ad0b-42f5-9815-0356f3ddf364",
   "metadata": {},
   "source": [
    "### Precision and recall"
   ]
  },
  {
   "cell_type": "code",
   "execution_count": 12,
   "id": "e9f67541-125b-478b-8a20-183d70c3216f",
   "metadata": {},
   "outputs": [],
   "source": [
    "def precision(targets, predictions, max_pred):\n",
    "    \"\"\"Calculate precision and recall\"\"\"\n",
    "    \n",
    "    predictions = predictions[:max_pred]\n",
    "\n",
    "    test_set = set(targets)\n",
    "    precision = float(len(set(predictions).intersection(test_set))) / max_pred\n",
    "    recall = float(len(set(predictions).intersection(test_set))) / float(len(test_set))\n",
    "\n",
    "    return precision, recall"
   ]
  },
  {
   "cell_type": "markdown",
   "id": "3186fb20-9062-4bd5-8ac1-96bc1f92dbb6",
   "metadata": {},
   "source": [
    "### Content-based recommendation"
   ]
  },
  {
   "cell_type": "code",
   "execution_count": 13,
   "id": "032a9e28-095c-4b99-a4c6-be7932b9e684",
   "metadata": {},
   "outputs": [],
   "source": [
    "def get_user_mean_features_cb(user_id, idf):\n",
    "    \"\"\"Get user features vector.\"\"\"\n",
    "\n",
    "    if idf == True:\n",
    "        features = [\"danceability\", \"energy\", \"speechiness\", \"acousticness\", \"instrumentalness\", \"tempo\", \"valence\", \"liveness\", \"idf_scores\"]\n",
    "    else:\n",
    "        features = [\"danceability\", \"energy\", \"speechiness\", \"acousticness\", \"instrumentalness\", \"tempo\", \"valence\", \"liveness\"]\n",
    "\n",
    "    list_features = features_df[features_df['track_id'].isin(events['track_id'][(events['user_id']==user_id)].drop_duplicates())]\n",
    "    train_x, test_x = train_test_split(list_features, test_size=0.20, random_state=21038875)\n",
    "    train_x_features = train_x[features]\n",
    "    user_mean_features = np.array(train_x_features.mean(axis=0))\n",
    "    user_mean_features = np.nan_to_num(user_mean_features)\n",
    "    \n",
    "    return user_mean_features, train_x['track_id'], test_x['track_id']\n",
    "    \n",
    "def cb_recommendation(user_id, train_data, idf=True, top_tracks=10):\n",
    "    \"\"\"Get recommendations.\"\"\"\n",
    "    \n",
    "    user_mean_features, train_x, test_x = get_user_mean_features_cb(user_id, idf)\n",
    "    \n",
    "    cosine_features = cosine_similarity(user_mean_features.reshape(1, -1),train_data)\n",
    "    \n",
    "    score = list(enumerate(cosine_features[0]))\n",
    "    \n",
    "    similarity_score = sorted(score, key = lambda x:x[1], reverse = True)\n",
    "    \n",
    "    similarity_score = similarity_score[:top_tracks]\n",
    "    top_songs_index = [i[0] for i in similarity_score]\n",
    "    \n",
    "    top_songs = pd.merge(features_df['track_id'].iloc[top_songs_index],tracks_meta[['track_id','song','Code','group']], on='track_id', how='left')\n",
    "    top_songs['user_id'] = user_id\n",
    "    top_songs['precision_val'], top_songs['recall_val'] = precision(test_x, top_songs['track_id'], top_tracks)\n",
    "    \n",
    "    train_x = train_x.to_frame()\n",
    "    test_x = test_x.to_frame()\n",
    "    train_x['user_id'] = user_id\n",
    "    test_x['user_id'] = user_id\n",
    "    \n",
    "    return top_songs, train_x, test_x"
   ]
  },
  {
   "cell_type": "markdown",
   "id": "2cc1223e-9b59-4a35-b5e0-8d357a68506c",
   "metadata": {},
   "source": [
    "### PCA recommendation"
   ]
  },
  {
   "cell_type": "code",
   "execution_count": 14,
   "id": "38810106-6971-4eea-9ae5-e83d8f592a4c",
   "metadata": {},
   "outputs": [
    {
     "name": "stdout",
     "output_type": "stream",
     "text": [
      "sklearn var:\n",
      " [0.37662626 0.26782698 0.14591953 0.0747538  0.04863181 0.03746187\n",
      " 0.02648363 0.02229612]\n"
     ]
    }
   ],
   "source": [
    "pca = PCA()\n",
    "X_train_non_pca = pca.fit_transform(train_non)\n",
    "print(\"sklearn var:\\n\", pca.explained_variance_ratio_)"
   ]
  },
  {
   "cell_type": "code",
   "execution_count": 15,
   "id": "c7653a61-5fcd-48e3-a98b-43ba21b55cac",
   "metadata": {},
   "outputs": [
    {
     "data": {
      "image/png": "[encoded data removed]",
      "text/plain": [
       "<Figure size 720x360 with 1 Axes>"
      ]
     },
     "metadata": {
      "needs_background": "light"
     },
     "output_type": "display_data"
    }
   ],
   "source": [
    "plt.figure(figsize=(10,5))\n",
    "plt.bar(range(0,len(pca.explained_variance_ratio_)), pca.explained_variance_ratio_,\n",
    "        alpha=0.5,\n",
    "        align='center',\n",
    "        label='Individual explained variance')\n",
    "plt.step(range(0,len(np.cumsum(pca.explained_variance_ratio_))), np.cumsum(pca.explained_variance_ratio_),\n",
    "         where='mid',\n",
    "         color='red',\n",
    "         label='Cumulative explained variance')\n",
    "plt.ylabel('Explained variance ratio')\n",
    "plt.xlabel('Principal Components')\n",
    "plt.legend(loc='best')\n",
    "plt.show()"
   ]
  },
  {
   "cell_type": "code",
   "execution_count": 16,
   "id": "286cd65a-20da-45f3-8a55-7e2648de007e",
   "metadata": {},
   "outputs": [],
   "source": [
    "pca_non = PCA(n_components=3)\n",
    "pComponents_non = pca_non.fit_transform(train_non)\n",
    "pcadf_non = pd.DataFrame(data = pComponents_non, columns = ['pca_01', 'pca_02', 'pca_03'])\n",
    "pca_non_df = pd.concat([pcadf_non,features_df['track_id']], axis=1)\n"
   ]
  },
  {
   "cell_type": "code",
   "execution_count": 17,
   "id": "02f99ab9-666f-46a3-a4fe-6dc843be2081",
   "metadata": {},
   "outputs": [
    {
     "name": "stdout",
     "output_type": "stream",
     "text": [
      "sklearn var:\n",
      " [0.36477623 0.25943582 0.14133051 0.07245464 0.04710147 0.0365825\n",
      " 0.03133725 0.02562419 0.02135741]\n"
     ]
    }
   ],
   "source": [
    "pca = PCA()\n",
    "X_train_pca = pca.fit_transform(train)\n",
    "print(\"sklearn var:\\n\", pca.explained_variance_ratio_)"
   ]
  },
  {
   "cell_type": "code",
   "execution_count": 18,
   "id": "329a6d78-2b9f-4d96-821f-cd18dc9a07ab",
   "metadata": {},
   "outputs": [
    {
     "data": {
      "image/png": "[encoded data removed]",
      "text/plain": [
       "<Figure size 720x360 with 1 Axes>"
      ]
     },
     "metadata": {
      "needs_background": "light"
     },
     "output_type": "display_data"
    }
   ],
   "source": [
    "plt.figure(figsize=(10,5))\n",
    "plt.bar(range(0,len(pca.explained_variance_ratio_)), pca.explained_variance_ratio_,\n",
    "        alpha=0.5,\n",
    "        align='center',\n",
    "        label='Individual explained variance')\n",
    "plt.step(range(0,len(np.cumsum(pca.explained_variance_ratio_))), np.cumsum(pca.explained_variance_ratio_),\n",
    "         where='mid',\n",
    "         color='red',\n",
    "         label='Cumulative explained variance')\n",
    "plt.ylabel('Explained variance ratio')\n",
    "plt.xlabel('Principal Components')\n",
    "plt.legend(loc='best')\n",
    "plt.show()"
   ]
  },
  {
   "cell_type": "code",
   "execution_count": 19,
   "id": "79ee770b-bd58-4eb2-a142-e73a1c89fd47",
   "metadata": {},
   "outputs": [],
   "source": [
    "pca = PCA(n_components=3)\n",
    "pComponents = pca.fit_transform(train)\n",
    "pcadf = pd.DataFrame(data = pComponents, columns = ['pca_01', 'pca_02', 'pca_03'])\n",
    "pca_df = pd.concat([pcadf,features_df['track_id']], axis=1)"
   ]
  },
  {
   "cell_type": "code",
   "execution_count": 20,
   "id": "1b0cc033-b6c5-48e0-9d78-1b023b2c18f5",
   "metadata": {},
   "outputs": [],
   "source": [
    "def get_user_mean_features_pca(user_id, idf):\n",
    "    \"\"\"Get user features vector.\"\"\"\n",
    "    \n",
    "    if idf == True:\n",
    "        features = [\"danceability\", \"energy\", \"speechiness\", \"acousticness\", \"instrumentalness\", \"tempo\", \"valence\", \"liveness\", \"idf_scores\"]\n",
    "        trans = pca\n",
    "    else:\n",
    "        features = [\"danceability\", \"energy\", \"speechiness\", \"acousticness\", \"instrumentalness\", \"tempo\", \"valence\", \"liveness\"]\n",
    "        trans = pca_non\n",
    "    \n",
    "    list_features = features_df[features_df['track_id'].isin(events['track_id'][(events['user_id']==user_id)].drop_duplicates())]\n",
    "    train_x, test_x = train_test_split(list_features, test_size=0.20, random_state=21038875)   \n",
    "    train_x_features = train_x[features]\n",
    "    user_mean_features = np.array(train_x_features.mean(axis=0))\n",
    "    user_mean_features = np.nan_to_num(user_mean_features)\n",
    "    user_mean_features = trans.transform(user_mean_features.reshape(1, -1))\n",
    "    \n",
    "    return user_mean_features, train_x['track_id'], test_x['track_id']\n",
    "\n",
    "\n",
    "def cb_recommendation_pca(user_id, train_data, idf=True, top_tracks=10):\n",
    "    \"\"\"Get recommendations.\"\"\"\n",
    "    \n",
    "    user_mean_features, train_x, test_x = get_user_mean_features_pca(user_id, idf)\n",
    "    \n",
    "    cosine_features = cosine_similarity(user_mean_features.reshape(1, -1),train_data)\n",
    "    \n",
    "    score = list(enumerate(cosine_features[0]))\n",
    "    \n",
    "    similarity_score = sorted(score, key = lambda x:x[1], reverse = True)\n",
    "    \n",
    "    similarity_score = similarity_score[:top_tracks]\n",
    "    top_songs_index = [i[0] for i in similarity_score]\n",
    "    \n",
    "    top_songs = pd.merge(features_df['track_id'].iloc[top_songs_index],tracks_meta[['track_id','song','Code','group']], on='track_id', how='left')\n",
    "    top_songs['user_id'] = user_id\n",
    "    \n",
    "    top_songs['precision_val'], top_songs['recall_val'] = precision(test_x, top_songs['track_id'], top_tracks)\n",
    "\n",
    "    train_x = train_x.to_frame()\n",
    "    test_x = test_x.to_frame()\n",
    "    train_x['user_id'] = user_id\n",
    "    test_x['user_id'] = user_id\n",
    "    \n",
    "    return top_songs, train_x, test_x"
   ]
  },
  {
   "cell_type": "markdown",
   "id": "6381a742-06a7-4e9e-b979-19572a214144",
   "metadata": {},
   "source": [
    "### Random recommendation"
   ]
  },
  {
   "cell_type": "code",
   "execution_count": 21,
   "id": "60e4898c-2be2-4d54-aff1-dd2de1022cce",
   "metadata": {},
   "outputs": [],
   "source": [
    "def get_user_mean_features_rand(user_id):\n",
    "    \"\"\"Get user features vector.\"\"\"\n",
    "\n",
    "    list_features = features_df[features_df['track_id'].isin(events['track_id'][(events['user_id']==user_id)].drop_duplicates())]\n",
    "    train_x, test_x = train_test_split(list_features, test_size=0.20, random_state=21038875)\n",
    "\n",
    "    return train_x['track_id'], test_x['track_id']\n",
    "\n",
    "\n",
    "def random_recommendation(user_id, train_data, idf=True, top_tracks=10):\n",
    "    \"\"\"Get recommendations.\"\"\"\n",
    "    \n",
    "    np.random.seed(21038875)\n",
    "    \n",
    "    train_x, test_x = get_user_mean_features_rand(user_id)\n",
    "    \n",
    "    \n",
    "    top_songs=tracks_counts[~tracks_counts['track_id'].isin(train_x)].sample(top_tracks)\n",
    "    \n",
    "    top_songs = pd.merge(top_songs,tracks_meta[['track_id','group']], on='track_id', how='left')\n",
    "    top_songs['user_id'] = user_id\n",
    "    \n",
    "    top_songs['precision_val'], top_songs['recall_val'] = precision(test_x, top_songs['track_id'], top_tracks)\n",
    "    \n",
    "    train_x = train_x.to_frame()\n",
    "    test_x = test_x.to_frame()\n",
    "    train_x['user_id'] = user_id\n",
    "    test_x['user_id'] = user_id\n",
    "    \n",
    "    return top_songs, train_x, test_x"
   ]
  },
  {
   "cell_type": "markdown",
   "id": "4dc1a6bb-88ea-4f0b-9de8-8163051a8473",
   "metadata": {},
   "source": [
    "### Popular recommendations"
   ]
  },
  {
   "cell_type": "code",
   "execution_count": 22,
   "id": "97851a6a-61f8-44c0-975e-65e3290ff0c2",
   "metadata": {},
   "outputs": [],
   "source": [
    "def get_user_mean_features_pop(user_id):\n",
    "    \"\"\"Get user features vector.\"\"\"\n",
    "\n",
    "    list_features = features_df[features_df['track_id'].isin(events['track_id'][(events['user_id']==user_id)].drop_duplicates())]\n",
    "    train_x, test_x = train_test_split(list_features, test_size=0.2, random_state=21038875)\n",
    "\n",
    "    return train_x['track_id'], test_x['track_id']\n",
    "\n",
    "\n",
    "def popular_recommendation(user_id, train_data, idf=True, top_tracks=10):\n",
    "    \"\"\"Get recommendations.\"\"\"\n",
    "    \n",
    "    train_x, test_x = get_user_mean_features_pop(user_id)\n",
    "    top_songs=tracks_counts[~tracks_counts['track_id'].isin(train_x)][:top_tracks]\n",
    "    \n",
    "    top_songs = pd.merge(top_songs,tracks_meta[['track_id','group']], on='track_id', how='left')\n",
    "    top_songs['user_id'] = user_id\n",
    "    \n",
    "    top_songs['precision_val'], top_songs['recall_val'] = precision(test_x, top_songs['track_id'], top_tracks)\n",
    "    \n",
    "    train_x = train_x.to_frame()\n",
    "    test_x = test_x.to_frame()\n",
    "    train_x['user_id'] = user_id\n",
    "    test_x['user_id'] = user_id\n",
    "    \n",
    "    return top_songs, train_x, test_x"
   ]
  },
  {
   "cell_type": "markdown",
   "id": "7b4bdcd6-8e0a-4e7a-ad65-a9c7b645e5b6",
   "metadata": {},
   "source": [
    "### Results"
   ]
  },
  {
   "cell_type": "code",
   "execution_count": 23,
   "id": "aac65c74-0639-4c50-8511-03b2fc4ce3d5",
   "metadata": {},
   "outputs": [],
   "source": [
    "def run_test(type_test, MRI_recommendation, users, train_data, idf, top_n_tracks=10):\n",
    "    \"\"\"Run recommendations for users and data\"\"\"\n",
    "    \n",
    "    start = time.time()\n",
    "    \n",
    "    recommendations = pd.DataFrame()\n",
    "    train = pd.DataFrame()\n",
    "    test = pd.DataFrame()\n",
    "    total_users = 0\n",
    "\n",
    "    for i in users['user_id'].drop_duplicates():\n",
    "        total_users += 1\n",
    "        MRI, train_x, test_x = MRI_recommendation(i, train_data, idf, top_n_tracks)\n",
    "        recommendations = pd.concat([recommendations,MRI])\n",
    "        train = pd.concat([train_x, train])\n",
    "        test = pd.concat([test_x, test])\n",
    "    \n",
    "\n",
    "    recommendations_bygroup = recommendations.groupby(['user_id','group']).size().reset_index()\n",
    "    recommendations_bygroup = recommendations_bygroup.rename(columns={0:'count'})\n",
    "    recommendations_stats = round((recommendations_bygroup.groupby(['user_id','group']).sum()/top_n_tracks*100).groupby('group').sum()/total_users,2)\n",
    "    recommendations_p_r = recommendations[['user_id','precision_val','recall_val']].drop_duplicates()\n",
    "    precision = recommendations_p_r['precision_val'].sum()/len(recommendations_p_r)\n",
    "    recall = recommendations_p_r['recall_val'].sum()/len(recommendations_p_r)\n",
    "    N = top_n_tracks\n",
    "\n",
    "    try:\n",
    "        pct_g1 = recommendations_stats.iloc[0]['count']\n",
    "    except (IndexError, ValueError):\n",
    "        pct_g1 = 'null'\n",
    "\n",
    "    try:\n",
    "        pct_g2 = recommendations_stats.iloc[1]['count']\n",
    "    except (IndexError, ValueError):\n",
    "        pct_g2 = 'null'\n",
    "\n",
    "    try:\n",
    "        pct_g3 = recommendations_stats.iloc[2]['count']\n",
    "    except (IndexError, ValueError):\n",
    "        pct_g3 = 'null'\n",
    "\n",
    "    end = time.time()\n",
    "    \n",
    "    recommendations['type_test'] = type_test\n",
    "    train['type_test'] = type_test\n",
    "    test['type_test'] = type_test\n",
    "    \n",
    "    print(end-start)\n",
    "    \n",
    "    return pct_g1, pct_g2, pct_g3, precision, recall, N, total_users, type_test, recommendations, train, test"
   ]
  },
  {
   "cell_type": "code",
   "execution_count": 24,
   "id": "e93e999c-1be9-4b3f-a77b-e9140bc8e561",
   "metadata": {},
   "outputs": [],
   "source": [
    "reco = pd.DataFrame(columns=['track_id','song','Code','group','user_id','precision_val','recall_val','type_test'])\n",
    "train_set = pd.DataFrame(columns=['track_id','user_id','type_test'])\n",
    "test_set = pd.DataFrame(columns=['track_id','user_id','type_test'])"
   ]
  },
  {
   "cell_type": "code",
   "execution_count": 25,
   "id": "36a0c910-94cd-47b0-912e-9a0007f1a0ef",
   "metadata": {},
   "outputs": [],
   "source": [
    "results = []"
   ]
  },
  {
   "cell_type": "code",
   "execution_count": 26,
   "id": "b6bf7264-c26a-4aad-a2b0-d8e3d1670853",
   "metadata": {},
   "outputs": [
    {
     "name": "stdout",
     "output_type": "stream",
     "text": [
      "2125.816519021988\n"
     ]
    }
   ],
   "source": [
    "r1, r2, r3, r4, r5, r6, r7, r8, r9, r10, r11 = run_test('beyms_idf', cb_recommendation, events_beyms, train, True, 10)\n",
    "results.append([r1,r2,r3,r4,r5,r6,r7,r8])\n",
    "reco = pd.concat([reco,r9])\n",
    "train_set = pd.concat([train_set,r10])\n",
    "test_set = pd.concat([test_set,r11])"
   ]
  },
  {
   "cell_type": "code",
   "execution_count": 27,
   "id": "ad0f45e9-182f-41ec-9656-2aae302ca1a4",
   "metadata": {},
   "outputs": [
    {
     "name": "stdout",
     "output_type": "stream",
     "text": [
      "1988.1497509479523\n"
     ]
    }
   ],
   "source": [
    "r1, r2, r3, r4, r5, r6, r7, r8, r9, r10, r11 = run_test('beyms_noidf', cb_recommendation, events_beyms, train_non, False, 10)\n",
    "results.append([r1,r2,r3,r4,r5,r6,r7,r8])\n",
    "reco = pd.concat([reco,r9])\n",
    "train_set = pd.concat([train_set,r10])\n",
    "test_set = pd.concat([test_set,r11])"
   ]
  },
  {
   "cell_type": "code",
   "execution_count": 28,
   "id": "f229f8da-742e-4b24-ba9f-3c2c91118c14",
   "metadata": {},
   "outputs": [
    {
     "name": "stdout",
     "output_type": "stream",
     "text": [
      "1873.1816310882568\n"
     ]
    }
   ],
   "source": [
    "r1, r2, r3, r4, r5, r6, r7, r8, r9, r10, r11 = run_test('ms_idf', cb_recommendation, events_ms, train, True, 10)\n",
    "results.append([r1,r2,r3,r4,r5,r6,r7,r8])\n",
    "reco = pd.concat([reco,r9])\n",
    "train_set = pd.concat([train_set,r10])\n",
    "test_set = pd.concat([test_set,r11])"
   ]
  },
  {
   "cell_type": "code",
   "execution_count": 29,
   "id": "0a1011b8-7e9e-488f-ad7e-36e764488253",
   "metadata": {},
   "outputs": [
    {
     "name": "stdout",
     "output_type": "stream",
     "text": [
      "1848.6851148605347\n"
     ]
    }
   ],
   "source": [
    "r1, r2, r3, r4, r5, r6, r7, r8, r9, r10, r11 = run_test('ms_noidf', cb_recommendation, events_ms, train_non, False, 10)\n",
    "results.append([r1,r2,r3,r4,r5,r6,r7,r8])\n",
    "reco = pd.concat([reco,r9])\n",
    "train_set = pd.concat([train_set,r10])\n",
    "test_set = pd.concat([test_set,r11])"
   ]
  },
  {
   "cell_type": "code",
   "execution_count": 30,
   "id": "eae1e469-d014-44f6-88bf-a15f058a9a33",
   "metadata": {},
   "outputs": [
    {
     "name": "stdout",
     "output_type": "stream",
     "text": [
      "1710.3407971858978\n"
     ]
    }
   ],
   "source": [
    "r1, r2, r3, r4, r5, r6, r7, r8, r9, r10, r11 = run_test('beyms_idf_pca', cb_recommendation_pca, events_beyms, pcadf, True, 10)\n",
    "results.append([r1,r2,r3,r4,r5,r6,r7,r8])\n",
    "reco = pd.concat([reco,r9])\n",
    "train_set = pd.concat([train_set,r10])\n",
    "test_set = pd.concat([test_set,r11])"
   ]
  },
  {
   "cell_type": "code",
   "execution_count": 31,
   "id": "cd89bafd-49f8-4eef-99fc-846451a76ee2",
   "metadata": {},
   "outputs": [
    {
     "name": "stdout",
     "output_type": "stream",
     "text": [
      "1733.5463650226593\n"
     ]
    }
   ],
   "source": [
    "r1, r2, r3, r4, r5, r6, r7, r8, r9, r10, r11 = run_test('beyms_noidf_pca', cb_recommendation_pca, events_beyms, pcadf_non, False, 10)\n",
    "results.append([r1,r2,r3,r4,r5,r6,r7,r8])\n",
    "reco = pd.concat([reco,r9])\n",
    "train_set = pd.concat([train_set,r10])\n",
    "test_set = pd.concat([test_set,r11])"
   ]
  },
  {
   "cell_type": "code",
   "execution_count": 32,
   "id": "e70e3600-5f0e-4280-a46b-0df1995718fc",
   "metadata": {},
   "outputs": [
    {
     "name": "stdout",
     "output_type": "stream",
     "text": [
      "1748.9714381694794\n"
     ]
    }
   ],
   "source": [
    "r1, r2, r3, r4, r5, r6, r7, r8, r9, r10, r11 = run_test('ms_idf_pca', cb_recommendation_pca, events_ms, pcadf, True, 10)\n",
    "results.append([r1,r2,r3,r4,r5,r6,r7,r8])\n",
    "reco = pd.concat([reco,r9])\n",
    "train_set = pd.concat([train_set,r10])\n",
    "test_set = pd.concat([test_set,r11])"
   ]
  },
  {
   "cell_type": "code",
   "execution_count": 33,
   "id": "8419f438-e052-4431-984a-589ca38a6d52",
   "metadata": {},
   "outputs": [
    {
     "name": "stdout",
     "output_type": "stream",
     "text": [
      "1761.5718960762024\n"
     ]
    }
   ],
   "source": [
    "r1, r2, r3, r4, r5, r6, r7, r8, r9, r10, r11 = run_test('ms_noidf_pca', cb_recommendation_pca, events_ms, pcadf_non, False, 10)\n",
    "results.append([r1,r2,r3,r4,r5,r6,r7,r8])\n",
    "reco = pd.concat([reco,r9])\n",
    "train_set = pd.concat([train_set,r10])\n",
    "test_set = pd.concat([test_set,r11])"
   ]
  },
  {
   "cell_type": "code",
   "execution_count": 34,
   "id": "33c3a8ec-ab58-4f2a-9c05-40470d19f4e8",
   "metadata": {},
   "outputs": [
    {
     "name": "stdout",
     "output_type": "stream",
     "text": [
      "332.33831310272217\n"
     ]
    }
   ],
   "source": [
    "r1, r2, r3, r4, r5, r6, r7, r8, r9, r10, r11 = run_test('beyms_rnd', random_recommendation, events_beyms, train, True, 10)\n",
    "results.append([r1,r2,r3,r4,r5,r6,r7,r8])\n",
    "reco = pd.concat([reco,r9])\n",
    "train_set = pd.concat([train_set,r10])\n",
    "test_set = pd.concat([test_set,r11])"
   ]
  },
  {
   "cell_type": "code",
   "execution_count": 35,
   "id": "8dcd257a-d2cf-4e79-a417-4d2cd4bbfbca",
   "metadata": {},
   "outputs": [
    {
     "name": "stdout",
     "output_type": "stream",
     "text": [
      "337.5101261138916\n"
     ]
    }
   ],
   "source": [
    "r1, r2, r3, r4, r5, r6, r7, r8, r9, r10, r11 = run_test('ms_rnd', random_recommendation, events_ms, train, True, 10)\n",
    "results.append([r1,r2,r3,r4,r5,r6,r7,r8])\n",
    "reco = pd.concat([reco,r9])\n",
    "train_set = pd.concat([train_set,r10])\n",
    "test_set = pd.concat([test_set,r11])"
   ]
  },
  {
   "cell_type": "code",
   "execution_count": 36,
   "id": "2c274367-2287-4e44-9e6a-ecb31ec90c6b",
   "metadata": {},
   "outputs": [
    {
     "name": "stdout",
     "output_type": "stream",
     "text": [
      "307.9380009174347\n"
     ]
    }
   ],
   "source": [
    "r1, r2, r3, r4, r5, r6, r7, r8, r9, r10, r11 = run_test('beyms_pop', popular_recommendation, events_beyms, train, True, 10)\n",
    "results.append([r1,r2,r3,r4,r5,r6,r7,r8])\n",
    "reco = pd.concat([reco,r9])\n",
    "train_set = pd.concat([train_set,r10])\n",
    "test_set = pd.concat([test_set,r11])"
   ]
  },
  {
   "cell_type": "code",
   "execution_count": 37,
   "id": "1078576e-5bd4-4539-9f75-7f17f6c8c195",
   "metadata": {},
   "outputs": [
    {
     "name": "stdout",
     "output_type": "stream",
     "text": [
      "305.6784300804138\n"
     ]
    }
   ],
   "source": [
    "r1, r2, r3, r4, r5, r6, r7, r8, r9, r10, r11 = run_test('ms_pop', popular_recommendation, events_ms, train, True, 10)\n",
    "results.append([r1,r2,r3,r4,r5,r6,r7,r8])\n",
    "reco = pd.concat([reco,r9])\n",
    "train_set = pd.concat([train_set,r10])\n",
    "test_set = pd.concat([test_set,r11])"
   ]
  },
  {
   "cell_type": "code",
   "execution_count": 38,
   "id": "a54d3c41-f142-4e33-9e45-570f21ca87cd",
   "metadata": {},
   "outputs": [],
   "source": [
    "df = pd.DataFrame(data = results, columns=['pct_g1', 'pct_g2', 'pct_g3', 'precision', 'recall', 'N', 'total_users', 'type_test'])"
   ]
  },
  {
   "cell_type": "markdown",
   "id": "1930604c-74ea-4d5c-9db5-2ad93fca342f",
   "metadata": {},
   "source": [
    "### Table of results"
   ]
  },
  {
   "cell_type": "code",
   "execution_count": 39,
   "id": "463c164e-3e25-4c4b-a673-8b043b491372",
   "metadata": {},
   "outputs": [
    {
     "data": {
      "text/html": [
       "<div>\n",
       "<style scoped>\n",
       "    .dataframe tbody tr th:only-of-type {\n",
       "        vertical-align: middle;\n",
       "    }\n",
       "\n",
       "    .dataframe tbody tr th {\n",
       "        vertical-align: top;\n",
       "    }\n",
       "\n",
       "    .dataframe thead th {\n",
       "        text-align: right;\n",
       "    }\n",
       "</style>\n",
       "<table border=\"1\" class=\"dataframe\">\n",
       "  <thead>\n",
       "    <tr style=\"text-align: right;\">\n",
       "      <th></th>\n",
       "      <th>pct_g1</th>\n",
       "      <th>pct_g2</th>\n",
       "      <th>pct_g3</th>\n",
       "      <th>precision</th>\n",
       "      <th>recall</th>\n",
       "      <th>N</th>\n",
       "      <th>total_users</th>\n",
       "      <th>type_test</th>\n",
       "    </tr>\n",
       "  </thead>\n",
       "  <tbody>\n",
       "    <tr>\n",
       "      <th>0</th>\n",
       "      <td>16.17</td>\n",
       "      <td>65.81</td>\n",
       "      <td>18.02</td>\n",
       "      <td>0.001013</td>\n",
       "      <td>0.000048</td>\n",
       "      <td>10</td>\n",
       "      <td>2073</td>\n",
       "      <td>beyms_idf</td>\n",
       "    </tr>\n",
       "    <tr>\n",
       "      <th>1</th>\n",
       "      <td>36.67</td>\n",
       "      <td>32.09</td>\n",
       "      <td>31.24</td>\n",
       "      <td>0.000579</td>\n",
       "      <td>0.000021</td>\n",
       "      <td>10</td>\n",
       "      <td>2073</td>\n",
       "      <td>beyms_noidf</td>\n",
       "    </tr>\n",
       "    <tr>\n",
       "      <th>2</th>\n",
       "      <td>16.40</td>\n",
       "      <td>70.48</td>\n",
       "      <td>13.11</td>\n",
       "      <td>0.000579</td>\n",
       "      <td>0.000024</td>\n",
       "      <td>10</td>\n",
       "      <td>2074</td>\n",
       "      <td>ms_idf</td>\n",
       "    </tr>\n",
       "    <tr>\n",
       "      <th>3</th>\n",
       "      <td>36.87</td>\n",
       "      <td>31.89</td>\n",
       "      <td>31.24</td>\n",
       "      <td>0.000530</td>\n",
       "      <td>0.000022</td>\n",
       "      <td>10</td>\n",
       "      <td>2074</td>\n",
       "      <td>ms_noidf</td>\n",
       "    </tr>\n",
       "    <tr>\n",
       "      <th>4</th>\n",
       "      <td>35.31</td>\n",
       "      <td>31.90</td>\n",
       "      <td>32.79</td>\n",
       "      <td>0.000868</td>\n",
       "      <td>0.000037</td>\n",
       "      <td>10</td>\n",
       "      <td>2073</td>\n",
       "      <td>beyms_idf_pca</td>\n",
       "    </tr>\n",
       "    <tr>\n",
       "      <th>5</th>\n",
       "      <td>35.62</td>\n",
       "      <td>31.66</td>\n",
       "      <td>32.71</td>\n",
       "      <td>0.000965</td>\n",
       "      <td>0.000040</td>\n",
       "      <td>10</td>\n",
       "      <td>2073</td>\n",
       "      <td>beyms_noidf_pca</td>\n",
       "    </tr>\n",
       "    <tr>\n",
       "      <th>6</th>\n",
       "      <td>35.95</td>\n",
       "      <td>31.64</td>\n",
       "      <td>32.41</td>\n",
       "      <td>0.000675</td>\n",
       "      <td>0.000020</td>\n",
       "      <td>10</td>\n",
       "      <td>2074</td>\n",
       "      <td>ms_idf_pca</td>\n",
       "    </tr>\n",
       "    <tr>\n",
       "      <th>7</th>\n",
       "      <td>35.49</td>\n",
       "      <td>31.98</td>\n",
       "      <td>32.54</td>\n",
       "      <td>0.000723</td>\n",
       "      <td>0.000026</td>\n",
       "      <td>10</td>\n",
       "      <td>2074</td>\n",
       "      <td>ms_noidf_pca</td>\n",
       "    </tr>\n",
       "    <tr>\n",
       "      <th>8</th>\n",
       "      <td>35.38</td>\n",
       "      <td>31.50</td>\n",
       "      <td>33.13</td>\n",
       "      <td>0.000048</td>\n",
       "      <td>0.000002</td>\n",
       "      <td>10</td>\n",
       "      <td>2073</td>\n",
       "      <td>beyms_rnd</td>\n",
       "    </tr>\n",
       "    <tr>\n",
       "      <th>9</th>\n",
       "      <td>35.43</td>\n",
       "      <td>31.74</td>\n",
       "      <td>32.84</td>\n",
       "      <td>0.000289</td>\n",
       "      <td>0.000011</td>\n",
       "      <td>10</td>\n",
       "      <td>2074</td>\n",
       "      <td>ms_rnd</td>\n",
       "    </tr>\n",
       "    <tr>\n",
       "      <th>10</th>\n",
       "      <td>48.33</td>\n",
       "      <td>51.67</td>\n",
       "      <td>null</td>\n",
       "      <td>0.021274</td>\n",
       "      <td>0.001391</td>\n",
       "      <td>10</td>\n",
       "      <td>2073</td>\n",
       "      <td>beyms_pop</td>\n",
       "    </tr>\n",
       "    <tr>\n",
       "      <th>11</th>\n",
       "      <td>48.78</td>\n",
       "      <td>51.22</td>\n",
       "      <td>null</td>\n",
       "      <td>0.050868</td>\n",
       "      <td>0.002150</td>\n",
       "      <td>10</td>\n",
       "      <td>2074</td>\n",
       "      <td>ms_pop</td>\n",
       "    </tr>\n",
       "  </tbody>\n",
       "</table>\n",
       "</div>"
      ],
      "text/plain": [
       "    pct_g1  pct_g2 pct_g3  precision    recall   N  total_users  \\\n",
       "0    16.17   65.81  18.02   0.001013  0.000048  10         2073   \n",
       "1    36.67   32.09  31.24   0.000579  0.000021  10         2073   \n",
       "2    16.40   70.48  13.11   0.000579  0.000024  10         2074   \n",
       "3    36.87   31.89  31.24   0.000530  0.000022  10         2074   \n",
       "4    35.31   31.90  32.79   0.000868  0.000037  10         2073   \n",
       "5    35.62   31.66  32.71   0.000965  0.000040  10         2073   \n",
       "6    35.95   31.64  32.41   0.000675  0.000020  10         2074   \n",
       "7    35.49   31.98  32.54   0.000723  0.000026  10         2074   \n",
       "8    35.38   31.50  33.13   0.000048  0.000002  10         2073   \n",
       "9    35.43   31.74  32.84   0.000289  0.000011  10         2074   \n",
       "10   48.33   51.67   null   0.021274  0.001391  10         2073   \n",
       "11   48.78   51.22   null   0.050868  0.002150  10         2074   \n",
       "\n",
       "          type_test  \n",
       "0         beyms_idf  \n",
       "1       beyms_noidf  \n",
       "2            ms_idf  \n",
       "3          ms_noidf  \n",
       "4     beyms_idf_pca  \n",
       "5   beyms_noidf_pca  \n",
       "6        ms_idf_pca  \n",
       "7      ms_noidf_pca  \n",
       "8         beyms_rnd  \n",
       "9            ms_rnd  \n",
       "10        beyms_pop  \n",
       "11           ms_pop  "
      ]
     },
     "execution_count": 39,
     "metadata": {},
     "output_type": "execute_result"
    }
   ],
   "source": [
    "df"
   ]
  },
  {
   "cell_type": "code",
   "execution_count": 40,
   "id": "ade0ad30-a587-4f99-beb8-3daf1a7701f3",
   "metadata": {},
   "outputs": [],
   "source": [
    "# Export results\n",
    "\n",
    "#features_df.to_csv('LFM-BeyMS_MRS_features_reco.csv')\n",
    "#reco.to_csv('LFM-BeyMS_MRS_experiments_reco.csv')\n",
    "#train_set.to_csv('LFM-BeyMS_MRS_experiments_train_set.csv')\n",
    "#test_set.to_csv('LFM-BeyMS_MRS_experiments_test_set.csv')\n",
    "#df.to_csv('LFM-BeyMS_MRS_experiments_df.csv')"
   ]
  }
 ],
 "metadata": {
  "kernelspec": {
   "display_name": "Python 3 (ipykernel)",
   "language": "python",
   "name": "python3"
  },
  "language_info": {
   "codemirror_mode": {
    "name": "ipython",
    "version": 3
   },
   "file_extension": ".py",
   "mimetype": "text/x-python",
   "name": "python",
   "nbconvert_exporter": "python",
   "pygments_lexer": "ipython3",
   "version": "3.9.10"
  }
 },
 "nbformat": 4,
 "nbformat_minor": 5
}
