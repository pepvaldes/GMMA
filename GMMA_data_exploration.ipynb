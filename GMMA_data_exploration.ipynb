{
 "cells": [
  {
   "cell_type": "markdown",
   "id": "fd3b2558-b7a6-4a2d-8fec-06b01fa0502d",
   "metadata": {},
   "source": [
    "## Data exploration and processing - GMMA"
   ]
  },
  {
   "cell_type": "code",
   "execution_count": 1,
   "id": "43974bde-55d5-4986-af30-ffa925dc2570",
   "metadata": {},
   "outputs": [],
   "source": [
    "import pandas as pd\n",
    "import numpy as np\n",
    "import matplotlib.pyplot as plt\n",
    "import seaborn as sns\n",
    "import warnings\n",
    "warnings.filterwarnings('ignore')"
   ]
  },
  {
   "cell_type": "code",
   "execution_count": 2,
   "id": "118d72cc-1a8d-4db4-8033-1233a9d8db00",
   "metadata": {},
   "outputs": [],
   "source": [
    "df = pd.read_csv(\"data/artist_realease_unique_LFM_Bey_no_dup.csv\", sep=\"\\t\")\n",
    "iso_country=pd.read_csv(\"data/data_iso3166_2d.csv\")\n",
    "events = pd.read_csv(\"data/events.csv\")\n",
    "users = pd.read_csv(\"data/LFM-1b_users.txt\", sep='\\t')\n",
    "beyms = pd.read_csv(\"data/beyms.csv\")\n",
    "ms = pd.read_csv(\"data/ms.csv\")"
   ]
  },
  {
   "cell_type": "code",
   "execution_count": 3,
   "id": "f88fa083-a26d-4e9b-9cb3-2bcb99628ef5",
   "metadata": {},
   "outputs": [],
   "source": [
    "events = events.query('user_id!=3532686')\n",
    "users = users.query('user_id!=3532686')"
   ]
  },
  {
   "cell_type": "code",
   "execution_count": 4,
   "id": "b7ef944d-c778-4f86-a6e3-0650b56a219a",
   "metadata": {},
   "outputs": [],
   "source": [
    "palette ={\"Group head\": \"#3b5b92\", \"Group mid\": \"#01889f\", \"Group tail\": \"#feb308\"}"
   ]
  },
  {
   "cell_type": "code",
   "execution_count": 5,
   "id": "141e8404-644e-4528-b15d-7c63796f5d2a",
   "metadata": {},
   "outputs": [],
   "source": [
    "df['artist_country'] = df['location_name'].map(iso_country.set_index('Name')['Code'])"
   ]
  },
  {
   "cell_type": "code",
   "execution_count": 6,
   "id": "79e80033-8b3a-4bef-ad44-d2326cf8f411",
   "metadata": {},
   "outputs": [],
   "source": [
    "# Drop duplicated by id but keeping last apparence\n",
    "\n",
    "df = df.drop_duplicates(['artist_id','album_id'],keep='last').reset_index()"
   ]
  },
  {
   "cell_type": "code",
   "execution_count": 7,
   "id": "af60a008-301f-4027-be4d-27c0478c5ec3",
   "metadata": {},
   "outputs": [],
   "source": [
    "# Fixing iso names\n",
    "\n",
    "df['artist_country'] = df['artist_country'].fillna('NA')\n",
    "users['country'] = users['country'].replace('UK','GB')\n",
    "df['artist_country'] = df['artist_country'].replace('UK','GB')"
   ]
  },
  {
   "cell_type": "code",
   "execution_count": 8,
   "id": "5d6b7eb1-3522-4712-b3a3-3ddd1db5452e",
   "metadata": {},
   "outputs": [],
   "source": [
    "df2 = df[['realease_artist','artist_country']]\n",
    "df2_b = df[['artist_id','album_id','artist_country']]\n",
    "df3 = df2.drop_duplicates()\n",
    "df3_b = df2_b.drop_duplicates()\n",
    "df3_bx = df3_b[['artist_id','artist_country']].drop_duplicates()"
   ]
  },
  {
   "cell_type": "code",
   "execution_count": 9,
   "id": "0a36f2c2-3cb9-42f5-87e6-eb72d3698903",
   "metadata": {},
   "outputs": [],
   "source": [
    "artist_country = df3['artist_country'].value_counts().reset_index()"
   ]
  },
  {
   "cell_type": "code",
   "execution_count": 10,
   "id": "e214db56-a329-41a6-9b4f-6c9daba04318",
   "metadata": {},
   "outputs": [],
   "source": [
    "artist_country = artist_country.rename(columns={'index':'country','artist_country':'count'})"
   ]
  },
  {
   "cell_type": "code",
   "execution_count": 11,
   "id": "f52bd4f8-a7fc-4e57-8d1f-4789e0447efb",
   "metadata": {},
   "outputs": [],
   "source": [
    "users = users.query('country == country').reset_index()"
   ]
  },
  {
   "cell_type": "code",
   "execution_count": 12,
   "id": "5a6b2bc4-3509-4e24-bff5-9add018e8ce0",
   "metadata": {},
   "outputs": [],
   "source": [
    "users_country = users['country'].value_counts().reset_index()\n",
    "users_country = users_country.rename(columns={'index':'country','country':'count'})"
   ]
  },
  {
   "cell_type": "code",
   "execution_count": 13,
   "id": "c1193b0c-5322-4ce4-b006-b905e2237c21",
   "metadata": {},
   "outputs": [],
   "source": [
    "result = pd.merge(events, users, on=['user_id'])"
   ]
  },
  {
   "cell_type": "code",
   "execution_count": 14,
   "id": "99a4af17-b4b1-4480-bbf3-00515be8538b",
   "metadata": {},
   "outputs": [],
   "source": [
    "result = pd.merge(result, df3_b, how='left', on=['artist_id','album_id'])"
   ]
  },
  {
   "cell_type": "code",
   "execution_count": 15,
   "id": "3b6fa079-215e-4ed4-9cb5-33b95a6cceda",
   "metadata": {},
   "outputs": [],
   "source": [
    "result['artist_country'] = result['artist_country'].fillna('Unknown')"
   ]
  },
  {
   "cell_type": "code",
   "execution_count": 16,
   "id": "21741526-fe28-4508-9838-53721128703e",
   "metadata": {},
   "outputs": [
    {
     "data": {
      "text/html": [
       "<div>\n",
       "<style scoped>\n",
       "    .dataframe tbody tr th:only-of-type {\n",
       "        vertical-align: middle;\n",
       "    }\n",
       "\n",
       "    .dataframe tbody tr th {\n",
       "        vertical-align: top;\n",
       "    }\n",
       "\n",
       "    .dataframe thead th {\n",
       "        text-align: right;\n",
       "    }\n",
       "</style>\n",
       "<table border=\"1\" class=\"dataframe\">\n",
       "  <thead>\n",
       "    <tr style=\"text-align: right;\">\n",
       "      <th></th>\n",
       "      <th>user_id</th>\n",
       "      <th>artist_id</th>\n",
       "      <th>album_id</th>\n",
       "      <th>track_id</th>\n",
       "      <th>timestamp</th>\n",
       "      <th>index</th>\n",
       "      <th>country</th>\n",
       "      <th>age</th>\n",
       "      <th>gender</th>\n",
       "      <th>playcount</th>\n",
       "      <th>registered_unixtime</th>\n",
       "      <th>artist_country</th>\n",
       "    </tr>\n",
       "  </thead>\n",
       "  <tbody>\n",
       "    <tr>\n",
       "      <th>0</th>\n",
       "      <td>31435741</td>\n",
       "      <td>21</td>\n",
       "      <td>31</td>\n",
       "      <td>53</td>\n",
       "      <td>1370977938</td>\n",
       "      <td>51552</td>\n",
       "      <td>RU</td>\n",
       "      <td>18</td>\n",
       "      <td>m</td>\n",
       "      <td>88048</td>\n",
       "      <td>1279825291</td>\n",
       "      <td>US</td>\n",
       "    </tr>\n",
       "    <tr>\n",
       "      <th>1</th>\n",
       "      <td>31435741</td>\n",
       "      <td>21</td>\n",
       "      <td>31</td>\n",
       "      <td>53</td>\n",
       "      <td>1370977728</td>\n",
       "      <td>51552</td>\n",
       "      <td>RU</td>\n",
       "      <td>18</td>\n",
       "      <td>m</td>\n",
       "      <td>88048</td>\n",
       "      <td>1279825291</td>\n",
       "      <td>US</td>\n",
       "    </tr>\n",
       "    <tr>\n",
       "      <th>2</th>\n",
       "      <td>31435741</td>\n",
       "      <td>21</td>\n",
       "      <td>31</td>\n",
       "      <td>53</td>\n",
       "      <td>1370977518</td>\n",
       "      <td>51552</td>\n",
       "      <td>RU</td>\n",
       "      <td>18</td>\n",
       "      <td>m</td>\n",
       "      <td>88048</td>\n",
       "      <td>1279825291</td>\n",
       "      <td>US</td>\n",
       "    </tr>\n",
       "    <tr>\n",
       "      <th>3</th>\n",
       "      <td>31435741</td>\n",
       "      <td>21</td>\n",
       "      <td>31</td>\n",
       "      <td>53</td>\n",
       "      <td>1370977308</td>\n",
       "      <td>51552</td>\n",
       "      <td>RU</td>\n",
       "      <td>18</td>\n",
       "      <td>m</td>\n",
       "      <td>88048</td>\n",
       "      <td>1279825291</td>\n",
       "      <td>US</td>\n",
       "    </tr>\n",
       "    <tr>\n",
       "      <th>4</th>\n",
       "      <td>31435741</td>\n",
       "      <td>21</td>\n",
       "      <td>31</td>\n",
       "      <td>53</td>\n",
       "      <td>1370977098</td>\n",
       "      <td>51552</td>\n",
       "      <td>RU</td>\n",
       "      <td>18</td>\n",
       "      <td>m</td>\n",
       "      <td>88048</td>\n",
       "      <td>1279825291</td>\n",
       "      <td>US</td>\n",
       "    </tr>\n",
       "  </tbody>\n",
       "</table>\n",
       "</div>"
      ],
      "text/plain": [
       "    user_id  artist_id  album_id  track_id   timestamp  index country  age  \\\n",
       "0  31435741         21        31        53  1370977938  51552      RU   18   \n",
       "1  31435741         21        31        53  1370977728  51552      RU   18   \n",
       "2  31435741         21        31        53  1370977518  51552      RU   18   \n",
       "3  31435741         21        31        53  1370977308  51552      RU   18   \n",
       "4  31435741         21        31        53  1370977098  51552      RU   18   \n",
       "\n",
       "  gender  playcount  registered_unixtime artist_country  \n",
       "0      m      88048           1279825291             US  \n",
       "1      m      88048           1279825291             US  \n",
       "2      m      88048           1279825291             US  \n",
       "3      m      88048           1279825291             US  \n",
       "4      m      88048           1279825291             US  "
      ]
     },
     "execution_count": 16,
     "metadata": {},
     "output_type": "execute_result"
    }
   ],
   "source": [
    "result.head() # dataset with country for user and artist"
   ]
  },
  {
   "cell_type": "markdown",
   "id": "bce8d7ca-e5e8-4b9d-a498-1444d24d499d",
   "metadata": {},
   "source": [
    "#### Processing artist country"
   ]
  },
  {
   "cell_type": "code",
   "execution_count": 17,
   "id": "849aa2e3-75ae-48ab-b6ff-19d6e0c8d1cc",
   "metadata": {},
   "outputs": [],
   "source": [
    "# For artist country unknown find the popular country in user and assing the country to artist\n",
    "\n",
    "# \"we propose to assign the cultural features of the country in which the track is most popular to each track. We argue that the track is most characteristic and representative for the country in which the track is most popular.\"\n",
    "# Zangerle, E., Pichl, M. and Schedl, M. (2020) User Models for Culture-Aware Music Recommendation: Fusing Acoustic and Cultural Cues. Transactions of the International Society for Music Information Retrieval. [online].  3 (1), Ubiquity Press, pp.1–16.\n",
    "# (Zangerle, Pichl and Schedl, 2020)\n",
    "\n",
    "result_unk=result.query('artist_country==\"Unknown\"')"
   ]
  },
  {
   "cell_type": "code",
   "execution_count": 18,
   "id": "a07d04e2-dc2c-4315-99a9-3fa891357ad7",
   "metadata": {},
   "outputs": [],
   "source": [
    "result_kwn=result.query('artist_country!=\"Unknown\"')"
   ]
  },
  {
   "cell_type": "code",
   "execution_count": 19,
   "id": "ac95c1c3-e77f-478c-bebc-e2104e4074d2",
   "metadata": {},
   "outputs": [
    {
     "data": {
      "text/html": [
       "<div>\n",
       "<style scoped>\n",
       "    .dataframe tbody tr th:only-of-type {\n",
       "        vertical-align: middle;\n",
       "    }\n",
       "\n",
       "    .dataframe tbody tr th {\n",
       "        vertical-align: top;\n",
       "    }\n",
       "\n",
       "    .dataframe thead th {\n",
       "        text-align: right;\n",
       "    }\n",
       "</style>\n",
       "<table border=\"1\" class=\"dataframe\">\n",
       "  <thead>\n",
       "    <tr style=\"text-align: right;\">\n",
       "      <th></th>\n",
       "      <th>user_id</th>\n",
       "      <th>artist_id</th>\n",
       "      <th>album_id</th>\n",
       "      <th>track_id</th>\n",
       "      <th>timestamp</th>\n",
       "      <th>index</th>\n",
       "      <th>country</th>\n",
       "      <th>age</th>\n",
       "      <th>gender</th>\n",
       "      <th>playcount</th>\n",
       "      <th>registered_unixtime</th>\n",
       "      <th>artist_country</th>\n",
       "    </tr>\n",
       "  </thead>\n",
       "  <tbody>\n",
       "    <tr>\n",
       "      <th>0</th>\n",
       "      <td>31435741</td>\n",
       "      <td>21</td>\n",
       "      <td>31</td>\n",
       "      <td>53</td>\n",
       "      <td>1370977938</td>\n",
       "      <td>51552</td>\n",
       "      <td>RU</td>\n",
       "      <td>18</td>\n",
       "      <td>m</td>\n",
       "      <td>88048</td>\n",
       "      <td>1279825291</td>\n",
       "      <td>US</td>\n",
       "    </tr>\n",
       "    <tr>\n",
       "      <th>1</th>\n",
       "      <td>31435741</td>\n",
       "      <td>21</td>\n",
       "      <td>31</td>\n",
       "      <td>53</td>\n",
       "      <td>1370977728</td>\n",
       "      <td>51552</td>\n",
       "      <td>RU</td>\n",
       "      <td>18</td>\n",
       "      <td>m</td>\n",
       "      <td>88048</td>\n",
       "      <td>1279825291</td>\n",
       "      <td>US</td>\n",
       "    </tr>\n",
       "    <tr>\n",
       "      <th>2</th>\n",
       "      <td>31435741</td>\n",
       "      <td>21</td>\n",
       "      <td>31</td>\n",
       "      <td>53</td>\n",
       "      <td>1370977518</td>\n",
       "      <td>51552</td>\n",
       "      <td>RU</td>\n",
       "      <td>18</td>\n",
       "      <td>m</td>\n",
       "      <td>88048</td>\n",
       "      <td>1279825291</td>\n",
       "      <td>US</td>\n",
       "    </tr>\n",
       "    <tr>\n",
       "      <th>3</th>\n",
       "      <td>31435741</td>\n",
       "      <td>21</td>\n",
       "      <td>31</td>\n",
       "      <td>53</td>\n",
       "      <td>1370977308</td>\n",
       "      <td>51552</td>\n",
       "      <td>RU</td>\n",
       "      <td>18</td>\n",
       "      <td>m</td>\n",
       "      <td>88048</td>\n",
       "      <td>1279825291</td>\n",
       "      <td>US</td>\n",
       "    </tr>\n",
       "    <tr>\n",
       "      <th>4</th>\n",
       "      <td>31435741</td>\n",
       "      <td>21</td>\n",
       "      <td>31</td>\n",
       "      <td>53</td>\n",
       "      <td>1370977098</td>\n",
       "      <td>51552</td>\n",
       "      <td>RU</td>\n",
       "      <td>18</td>\n",
       "      <td>m</td>\n",
       "      <td>88048</td>\n",
       "      <td>1279825291</td>\n",
       "      <td>US</td>\n",
       "    </tr>\n",
       "    <tr>\n",
       "      <th>...</th>\n",
       "      <td>...</td>\n",
       "      <td>...</td>\n",
       "      <td>...</td>\n",
       "      <td>...</td>\n",
       "      <td>...</td>\n",
       "      <td>...</td>\n",
       "      <td>...</td>\n",
       "      <td>...</td>\n",
       "      <td>...</td>\n",
       "      <td>...</td>\n",
       "      <td>...</td>\n",
       "      <td>...</td>\n",
       "    </tr>\n",
       "    <tr>\n",
       "      <th>16687322</th>\n",
       "      <td>49091935</td>\n",
       "      <td>2558</td>\n",
       "      <td>30248</td>\n",
       "      <td>97380</td>\n",
       "      <td>1334407012</td>\n",
       "      <td>102958</td>\n",
       "      <td>DE</td>\n",
       "      <td>23</td>\n",
       "      <td>m</td>\n",
       "      <td>207</td>\n",
       "      <td>1333926738</td>\n",
       "      <td>US</td>\n",
       "    </tr>\n",
       "    <tr>\n",
       "      <th>16687349</th>\n",
       "      <td>49091935</td>\n",
       "      <td>12472</td>\n",
       "      <td>731083</td>\n",
       "      <td>1862201</td>\n",
       "      <td>1333929943</td>\n",
       "      <td>102958</td>\n",
       "      <td>DE</td>\n",
       "      <td>23</td>\n",
       "      <td>m</td>\n",
       "      <td>207</td>\n",
       "      <td>1333926738</td>\n",
       "      <td>SE</td>\n",
       "    </tr>\n",
       "    <tr>\n",
       "      <th>16687350</th>\n",
       "      <td>49091935</td>\n",
       "      <td>61827</td>\n",
       "      <td>243975</td>\n",
       "      <td>673987</td>\n",
       "      <td>1333929606</td>\n",
       "      <td>102958</td>\n",
       "      <td>DE</td>\n",
       "      <td>23</td>\n",
       "      <td>m</td>\n",
       "      <td>207</td>\n",
       "      <td>1333926738</td>\n",
       "      <td>US</td>\n",
       "    </tr>\n",
       "    <tr>\n",
       "      <th>16687351</th>\n",
       "      <td>49091935</td>\n",
       "      <td>5384</td>\n",
       "      <td>10859</td>\n",
       "      <td>30839</td>\n",
       "      <td>1333928847</td>\n",
       "      <td>102958</td>\n",
       "      <td>DE</td>\n",
       "      <td>23</td>\n",
       "      <td>m</td>\n",
       "      <td>207</td>\n",
       "      <td>1333926738</td>\n",
       "      <td>US</td>\n",
       "    </tr>\n",
       "    <tr>\n",
       "      <th>16687352</th>\n",
       "      <td>49091935</td>\n",
       "      <td>17171</td>\n",
       "      <td>38584</td>\n",
       "      <td>164726</td>\n",
       "      <td>1333928640</td>\n",
       "      <td>102958</td>\n",
       "      <td>DE</td>\n",
       "      <td>23</td>\n",
       "      <td>m</td>\n",
       "      <td>207</td>\n",
       "      <td>1333926738</td>\n",
       "      <td>US</td>\n",
       "    </tr>\n",
       "  </tbody>\n",
       "</table>\n",
       "<p>9684533 rows × 12 columns</p>\n",
       "</div>"
      ],
      "text/plain": [
       "           user_id  artist_id  album_id  track_id   timestamp   index country  \\\n",
       "0         31435741         21        31        53  1370977938   51552      RU   \n",
       "1         31435741         21        31        53  1370977728   51552      RU   \n",
       "2         31435741         21        31        53  1370977518   51552      RU   \n",
       "3         31435741         21        31        53  1370977308   51552      RU   \n",
       "4         31435741         21        31        53  1370977098   51552      RU   \n",
       "...            ...        ...       ...       ...         ...     ...     ...   \n",
       "16687322  49091935       2558     30248     97380  1334407012  102958      DE   \n",
       "16687349  49091935      12472    731083   1862201  1333929943  102958      DE   \n",
       "16687350  49091935      61827    243975    673987  1333929606  102958      DE   \n",
       "16687351  49091935       5384     10859     30839  1333928847  102958      DE   \n",
       "16687352  49091935      17171     38584    164726  1333928640  102958      DE   \n",
       "\n",
       "          age gender  playcount  registered_unixtime artist_country  \n",
       "0          18      m      88048           1279825291             US  \n",
       "1          18      m      88048           1279825291             US  \n",
       "2          18      m      88048           1279825291             US  \n",
       "3          18      m      88048           1279825291             US  \n",
       "4          18      m      88048           1279825291             US  \n",
       "...       ...    ...        ...                  ...            ...  \n",
       "16687322   23      m        207           1333926738             US  \n",
       "16687349   23      m        207           1333926738             SE  \n",
       "16687350   23      m        207           1333926738             US  \n",
       "16687351   23      m        207           1333926738             US  \n",
       "16687352   23      m        207           1333926738             US  \n",
       "\n",
       "[9684533 rows x 12 columns]"
      ]
     },
     "execution_count": 19,
     "metadata": {},
     "output_type": "execute_result"
    }
   ],
   "source": [
    "result_kwn"
   ]
  },
  {
   "cell_type": "code",
   "execution_count": 20,
   "id": "70e586e2-755a-4da4-9826-961886bb2b68",
   "metadata": {},
   "outputs": [],
   "source": [
    "#Finding the artist that already are knowed and matchet with the unknowed\n",
    "\n",
    "only_artist_country = pd.merge(result_unk[['artist_id']].drop_duplicates(),result_kwn[['artist_id','artist_country']].drop_duplicates(), on='artist_id')"
   ]
  },
  {
   "cell_type": "code",
   "execution_count": 21,
   "id": "2643605e-b507-4a2a-8e75-b299df693469",
   "metadata": {},
   "outputs": [],
   "source": [
    "result_unk['artist_country'] = result_unk['artist_id'].map(only_artist_country.set_index('artist_id')['artist_country'])"
   ]
  },
  {
   "cell_type": "code",
   "execution_count": 22,
   "id": "15de152e-7a2e-4b00-b929-04ae4db545b1",
   "metadata": {},
   "outputs": [],
   "source": [
    "result_unk['artist_country'] = result_unk['artist_country'].fillna('Unknown')"
   ]
  },
  {
   "cell_type": "code",
   "execution_count": 23,
   "id": "9ef2acf2-5c09-42f7-b0f0-2db533eacd83",
   "metadata": {},
   "outputs": [
    {
     "data": {
      "text/html": [
       "<div>\n",
       "<style scoped>\n",
       "    .dataframe tbody tr th:only-of-type {\n",
       "        vertical-align: middle;\n",
       "    }\n",
       "\n",
       "    .dataframe tbody tr th {\n",
       "        vertical-align: top;\n",
       "    }\n",
       "\n",
       "    .dataframe thead th {\n",
       "        text-align: right;\n",
       "    }\n",
       "</style>\n",
       "<table border=\"1\" class=\"dataframe\">\n",
       "  <thead>\n",
       "    <tr style=\"text-align: right;\">\n",
       "      <th></th>\n",
       "      <th>user_id</th>\n",
       "      <th>artist_id</th>\n",
       "      <th>album_id</th>\n",
       "      <th>track_id</th>\n",
       "      <th>timestamp</th>\n",
       "      <th>index</th>\n",
       "      <th>country</th>\n",
       "      <th>age</th>\n",
       "      <th>gender</th>\n",
       "      <th>playcount</th>\n",
       "      <th>registered_unixtime</th>\n",
       "      <th>artist_country</th>\n",
       "    </tr>\n",
       "  </thead>\n",
       "  <tbody>\n",
       "    <tr>\n",
       "      <th>138</th>\n",
       "      <td>31435741</td>\n",
       "      <td>44</td>\n",
       "      <td>65</td>\n",
       "      <td>127</td>\n",
       "      <td>1369059233</td>\n",
       "      <td>51552</td>\n",
       "      <td>RU</td>\n",
       "      <td>18</td>\n",
       "      <td>m</td>\n",
       "      <td>88048</td>\n",
       "      <td>1279825291</td>\n",
       "      <td>GB</td>\n",
       "    </tr>\n",
       "    <tr>\n",
       "      <th>139</th>\n",
       "      <td>31435741</td>\n",
       "      <td>44</td>\n",
       "      <td>65</td>\n",
       "      <td>127</td>\n",
       "      <td>1369058969</td>\n",
       "      <td>51552</td>\n",
       "      <td>RU</td>\n",
       "      <td>18</td>\n",
       "      <td>m</td>\n",
       "      <td>88048</td>\n",
       "      <td>1279825291</td>\n",
       "      <td>GB</td>\n",
       "    </tr>\n",
       "    <tr>\n",
       "      <th>140</th>\n",
       "      <td>31435741</td>\n",
       "      <td>44</td>\n",
       "      <td>65</td>\n",
       "      <td>127</td>\n",
       "      <td>1369058705</td>\n",
       "      <td>51552</td>\n",
       "      <td>RU</td>\n",
       "      <td>18</td>\n",
       "      <td>m</td>\n",
       "      <td>88048</td>\n",
       "      <td>1279825291</td>\n",
       "      <td>GB</td>\n",
       "    </tr>\n",
       "    <tr>\n",
       "      <th>343</th>\n",
       "      <td>31435741</td>\n",
       "      <td>44</td>\n",
       "      <td>65</td>\n",
       "      <td>374</td>\n",
       "      <td>1359319358</td>\n",
       "      <td>51552</td>\n",
       "      <td>RU</td>\n",
       "      <td>18</td>\n",
       "      <td>m</td>\n",
       "      <td>88048</td>\n",
       "      <td>1279825291</td>\n",
       "      <td>GB</td>\n",
       "    </tr>\n",
       "    <tr>\n",
       "      <th>344</th>\n",
       "      <td>31435741</td>\n",
       "      <td>44</td>\n",
       "      <td>65</td>\n",
       "      <td>374</td>\n",
       "      <td>1359319133</td>\n",
       "      <td>51552</td>\n",
       "      <td>RU</td>\n",
       "      <td>18</td>\n",
       "      <td>m</td>\n",
       "      <td>88048</td>\n",
       "      <td>1279825291</td>\n",
       "      <td>GB</td>\n",
       "    </tr>\n",
       "    <tr>\n",
       "      <th>...</th>\n",
       "      <td>...</td>\n",
       "      <td>...</td>\n",
       "      <td>...</td>\n",
       "      <td>...</td>\n",
       "      <td>...</td>\n",
       "      <td>...</td>\n",
       "      <td>...</td>\n",
       "      <td>...</td>\n",
       "      <td>...</td>\n",
       "      <td>...</td>\n",
       "      <td>...</td>\n",
       "      <td>...</td>\n",
       "    </tr>\n",
       "    <tr>\n",
       "      <th>16687327</th>\n",
       "      <td>49091935</td>\n",
       "      <td>111</td>\n",
       "      <td>207</td>\n",
       "      <td>281305</td>\n",
       "      <td>1334272056</td>\n",
       "      <td>102958</td>\n",
       "      <td>DE</td>\n",
       "      <td>23</td>\n",
       "      <td>m</td>\n",
       "      <td>207</td>\n",
       "      <td>1333926738</td>\n",
       "      <td>DE</td>\n",
       "    </tr>\n",
       "    <tr>\n",
       "      <th>16687328</th>\n",
       "      <td>49091935</td>\n",
       "      <td>111</td>\n",
       "      <td>207</td>\n",
       "      <td>423</td>\n",
       "      <td>1334271674</td>\n",
       "      <td>102958</td>\n",
       "      <td>DE</td>\n",
       "      <td>23</td>\n",
       "      <td>m</td>\n",
       "      <td>207</td>\n",
       "      <td>1333926738</td>\n",
       "      <td>DE</td>\n",
       "    </tr>\n",
       "    <tr>\n",
       "      <th>16687329</th>\n",
       "      <td>49091935</td>\n",
       "      <td>111</td>\n",
       "      <td>207</td>\n",
       "      <td>281306</td>\n",
       "      <td>1334271414</td>\n",
       "      <td>102958</td>\n",
       "      <td>DE</td>\n",
       "      <td>23</td>\n",
       "      <td>m</td>\n",
       "      <td>207</td>\n",
       "      <td>1333926738</td>\n",
       "      <td>DE</td>\n",
       "    </tr>\n",
       "    <tr>\n",
       "      <th>16687330</th>\n",
       "      <td>49091935</td>\n",
       "      <td>111</td>\n",
       "      <td>207</td>\n",
       "      <td>2273</td>\n",
       "      <td>1334271100</td>\n",
       "      <td>102958</td>\n",
       "      <td>DE</td>\n",
       "      <td>23</td>\n",
       "      <td>m</td>\n",
       "      <td>207</td>\n",
       "      <td>1333926738</td>\n",
       "      <td>DE</td>\n",
       "    </tr>\n",
       "    <tr>\n",
       "      <th>16687331</th>\n",
       "      <td>49091935</td>\n",
       "      <td>111</td>\n",
       "      <td>207</td>\n",
       "      <td>2281</td>\n",
       "      <td>1334270786</td>\n",
       "      <td>102958</td>\n",
       "      <td>DE</td>\n",
       "      <td>23</td>\n",
       "      <td>m</td>\n",
       "      <td>207</td>\n",
       "      <td>1333926738</td>\n",
       "      <td>DE</td>\n",
       "    </tr>\n",
       "  </tbody>\n",
       "</table>\n",
       "<p>3701888 rows × 12 columns</p>\n",
       "</div>"
      ],
      "text/plain": [
       "           user_id  artist_id  album_id  track_id   timestamp   index country  \\\n",
       "138       31435741         44        65       127  1369059233   51552      RU   \n",
       "139       31435741         44        65       127  1369058969   51552      RU   \n",
       "140       31435741         44        65       127  1369058705   51552      RU   \n",
       "343       31435741         44        65       374  1359319358   51552      RU   \n",
       "344       31435741         44        65       374  1359319133   51552      RU   \n",
       "...            ...        ...       ...       ...         ...     ...     ...   \n",
       "16687327  49091935        111       207    281305  1334272056  102958      DE   \n",
       "16687328  49091935        111       207       423  1334271674  102958      DE   \n",
       "16687329  49091935        111       207    281306  1334271414  102958      DE   \n",
       "16687330  49091935        111       207      2273  1334271100  102958      DE   \n",
       "16687331  49091935        111       207      2281  1334270786  102958      DE   \n",
       "\n",
       "          age gender  playcount  registered_unixtime artist_country  \n",
       "138        18      m      88048           1279825291             GB  \n",
       "139        18      m      88048           1279825291             GB  \n",
       "140        18      m      88048           1279825291             GB  \n",
       "343        18      m      88048           1279825291             GB  \n",
       "344        18      m      88048           1279825291             GB  \n",
       "...       ...    ...        ...                  ...            ...  \n",
       "16687327   23      m        207           1333926738             DE  \n",
       "16687328   23      m        207           1333926738             DE  \n",
       "16687329   23      m        207           1333926738             DE  \n",
       "16687330   23      m        207           1333926738             DE  \n",
       "16687331   23      m        207           1333926738             DE  \n",
       "\n",
       "[3701888 rows x 12 columns]"
      ]
     },
     "execution_count": 23,
     "metadata": {},
     "output_type": "execute_result"
    }
   ],
   "source": [
    "result_unk1 = result_unk.query('artist_country!=\"Unknown\"')\n",
    "result_unk1"
   ]
  },
  {
   "cell_type": "code",
   "execution_count": 24,
   "id": "5701fe96-f9e6-40cc-a340-b90dc580c0a3",
   "metadata": {},
   "outputs": [],
   "source": [
    "world_country_unk = result_unk[['track_id','album_id','artist_id', 'artist_country', 'country']].query('artist_country!=\"Unknown\"').groupby(['artist_country']).nunique().reset_index()\n",
    "world_country_unk = world_country_unk.rename(columns={'artist_country':'Code'})"
   ]
  },
  {
   "cell_type": "code",
   "execution_count": 25,
   "id": "046e33eb-d29b-4897-94e3-72b431c1f577",
   "metadata": {},
   "outputs": [],
   "source": [
    "# Finding the 2 layer of unknown artist to use the popularity technique\n",
    "\n",
    "result_unk2 = result_unk.query('artist_country==\"Unknown\"')\n",
    "result_unk_grp = result_unk2.groupby(['artist_id', 'track_id','country']).size()\n",
    "top_unk = result_unk_grp.groupby(level=[0,1]).nlargest(1).reset_index(level=[0,1], drop=True).reset_index()\n",
    "top_unk = top_unk.rename(columns={'country':'artist_country'})\n",
    "result_unk2 = result_unk2.drop(columns='artist_country')\n",
    "result_unk2 = pd.merge(result_unk2,top_unk[['artist_id','track_id','artist_country']], on=['artist_id','track_id'])"
   ]
  },
  {
   "cell_type": "code",
   "execution_count": 26,
   "id": "4033ea06-5798-447f-967c-a67e05f924db",
   "metadata": {},
   "outputs": [
    {
     "data": {
      "text/html": [
       "<div>\n",
       "<style scoped>\n",
       "    .dataframe tbody tr th:only-of-type {\n",
       "        vertical-align: middle;\n",
       "    }\n",
       "\n",
       "    .dataframe tbody tr th {\n",
       "        vertical-align: top;\n",
       "    }\n",
       "\n",
       "    .dataframe thead th {\n",
       "        text-align: right;\n",
       "    }\n",
       "</style>\n",
       "<table border=\"1\" class=\"dataframe\">\n",
       "  <thead>\n",
       "    <tr style=\"text-align: right;\">\n",
       "      <th></th>\n",
       "      <th>user_id</th>\n",
       "      <th>artist_id</th>\n",
       "      <th>album_id</th>\n",
       "      <th>track_id</th>\n",
       "      <th>timestamp</th>\n",
       "      <th>index</th>\n",
       "      <th>country</th>\n",
       "      <th>age</th>\n",
       "      <th>gender</th>\n",
       "      <th>playcount</th>\n",
       "      <th>registered_unixtime</th>\n",
       "      <th>artist_country</th>\n",
       "    </tr>\n",
       "  </thead>\n",
       "  <tbody>\n",
       "    <tr>\n",
       "      <th>0</th>\n",
       "      <td>31435741</td>\n",
       "      <td>65</td>\n",
       "      <td>118</td>\n",
       "      <td>219</td>\n",
       "      <td>1361220299</td>\n",
       "      <td>51552</td>\n",
       "      <td>RU</td>\n",
       "      <td>18</td>\n",
       "      <td>m</td>\n",
       "      <td>88048</td>\n",
       "      <td>1279825291</td>\n",
       "      <td>RU</td>\n",
       "    </tr>\n",
       "    <tr>\n",
       "      <th>1</th>\n",
       "      <td>31435741</td>\n",
       "      <td>65</td>\n",
       "      <td>118</td>\n",
       "      <td>219</td>\n",
       "      <td>1361220097</td>\n",
       "      <td>51552</td>\n",
       "      <td>RU</td>\n",
       "      <td>18</td>\n",
       "      <td>m</td>\n",
       "      <td>88048</td>\n",
       "      <td>1279825291</td>\n",
       "      <td>RU</td>\n",
       "    </tr>\n",
       "    <tr>\n",
       "      <th>2</th>\n",
       "      <td>31435741</td>\n",
       "      <td>65</td>\n",
       "      <td>118</td>\n",
       "      <td>219</td>\n",
       "      <td>1361219895</td>\n",
       "      <td>51552</td>\n",
       "      <td>RU</td>\n",
       "      <td>18</td>\n",
       "      <td>m</td>\n",
       "      <td>88048</td>\n",
       "      <td>1279825291</td>\n",
       "      <td>RU</td>\n",
       "    </tr>\n",
       "    <tr>\n",
       "      <th>3</th>\n",
       "      <td>31435741</td>\n",
       "      <td>65</td>\n",
       "      <td>118</td>\n",
       "      <td>219</td>\n",
       "      <td>1361219692</td>\n",
       "      <td>51552</td>\n",
       "      <td>RU</td>\n",
       "      <td>18</td>\n",
       "      <td>m</td>\n",
       "      <td>88048</td>\n",
       "      <td>1279825291</td>\n",
       "      <td>RU</td>\n",
       "    </tr>\n",
       "    <tr>\n",
       "      <th>4</th>\n",
       "      <td>31435741</td>\n",
       "      <td>65</td>\n",
       "      <td>118</td>\n",
       "      <td>219</td>\n",
       "      <td>1361219490</td>\n",
       "      <td>51552</td>\n",
       "      <td>RU</td>\n",
       "      <td>18</td>\n",
       "      <td>m</td>\n",
       "      <td>88048</td>\n",
       "      <td>1279825291</td>\n",
       "      <td>RU</td>\n",
       "    </tr>\n",
       "    <tr>\n",
       "      <th>...</th>\n",
       "      <td>...</td>\n",
       "      <td>...</td>\n",
       "      <td>...</td>\n",
       "      <td>...</td>\n",
       "      <td>...</td>\n",
       "      <td>...</td>\n",
       "      <td>...</td>\n",
       "      <td>...</td>\n",
       "      <td>...</td>\n",
       "      <td>...</td>\n",
       "      <td>...</td>\n",
       "      <td>...</td>\n",
       "    </tr>\n",
       "    <tr>\n",
       "      <th>3300928</th>\n",
       "      <td>49091935</td>\n",
       "      <td>254478</td>\n",
       "      <td>889951</td>\n",
       "      <td>8851152</td>\n",
       "      <td>1344850648</td>\n",
       "      <td>102958</td>\n",
       "      <td>DE</td>\n",
       "      <td>23</td>\n",
       "      <td>m</td>\n",
       "      <td>207</td>\n",
       "      <td>1333926738</td>\n",
       "      <td>DE</td>\n",
       "    </tr>\n",
       "    <tr>\n",
       "      <th>3300929</th>\n",
       "      <td>49091935</td>\n",
       "      <td>254478</td>\n",
       "      <td>889951</td>\n",
       "      <td>8851227</td>\n",
       "      <td>1344850461</td>\n",
       "      <td>102958</td>\n",
       "      <td>DE</td>\n",
       "      <td>23</td>\n",
       "      <td>m</td>\n",
       "      <td>207</td>\n",
       "      <td>1333926738</td>\n",
       "      <td>DE</td>\n",
       "    </tr>\n",
       "    <tr>\n",
       "      <th>3300930</th>\n",
       "      <td>49091935</td>\n",
       "      <td>254478</td>\n",
       "      <td>889951</td>\n",
       "      <td>2253120</td>\n",
       "      <td>1344850123</td>\n",
       "      <td>102958</td>\n",
       "      <td>DE</td>\n",
       "      <td>23</td>\n",
       "      <td>m</td>\n",
       "      <td>207</td>\n",
       "      <td>1333926738</td>\n",
       "      <td>DE</td>\n",
       "    </tr>\n",
       "    <tr>\n",
       "      <th>3300931</th>\n",
       "      <td>49091935</td>\n",
       "      <td>254478</td>\n",
       "      <td>889951</td>\n",
       "      <td>5712738</td>\n",
       "      <td>1344849919</td>\n",
       "      <td>102958</td>\n",
       "      <td>DE</td>\n",
       "      <td>23</td>\n",
       "      <td>m</td>\n",
       "      <td>207</td>\n",
       "      <td>1333926738</td>\n",
       "      <td>DE</td>\n",
       "    </tr>\n",
       "    <tr>\n",
       "      <th>3300932</th>\n",
       "      <td>49091935</td>\n",
       "      <td>254478</td>\n",
       "      <td>889951</td>\n",
       "      <td>2253122</td>\n",
       "      <td>1344849577</td>\n",
       "      <td>102958</td>\n",
       "      <td>DE</td>\n",
       "      <td>23</td>\n",
       "      <td>m</td>\n",
       "      <td>207</td>\n",
       "      <td>1333926738</td>\n",
       "      <td>DE</td>\n",
       "    </tr>\n",
       "  </tbody>\n",
       "</table>\n",
       "<p>3300933 rows × 12 columns</p>\n",
       "</div>"
      ],
      "text/plain": [
       "          user_id  artist_id  album_id  track_id   timestamp   index country  \\\n",
       "0        31435741         65       118       219  1361220299   51552      RU   \n",
       "1        31435741         65       118       219  1361220097   51552      RU   \n",
       "2        31435741         65       118       219  1361219895   51552      RU   \n",
       "3        31435741         65       118       219  1361219692   51552      RU   \n",
       "4        31435741         65       118       219  1361219490   51552      RU   \n",
       "...           ...        ...       ...       ...         ...     ...     ...   \n",
       "3300928  49091935     254478    889951   8851152  1344850648  102958      DE   \n",
       "3300929  49091935     254478    889951   8851227  1344850461  102958      DE   \n",
       "3300930  49091935     254478    889951   2253120  1344850123  102958      DE   \n",
       "3300931  49091935     254478    889951   5712738  1344849919  102958      DE   \n",
       "3300932  49091935     254478    889951   2253122  1344849577  102958      DE   \n",
       "\n",
       "         age gender  playcount  registered_unixtime artist_country  \n",
       "0         18      m      88048           1279825291             RU  \n",
       "1         18      m      88048           1279825291             RU  \n",
       "2         18      m      88048           1279825291             RU  \n",
       "3         18      m      88048           1279825291             RU  \n",
       "4         18      m      88048           1279825291             RU  \n",
       "...      ...    ...        ...                  ...            ...  \n",
       "3300928   23      m        207           1333926738             DE  \n",
       "3300929   23      m        207           1333926738             DE  \n",
       "3300930   23      m        207           1333926738             DE  \n",
       "3300931   23      m        207           1333926738             DE  \n",
       "3300932   23      m        207           1333926738             DE  \n",
       "\n",
       "[3300933 rows x 12 columns]"
      ]
     },
     "execution_count": 26,
     "metadata": {},
     "output_type": "execute_result"
    }
   ],
   "source": [
    "result_unk2"
   ]
  },
  {
   "cell_type": "code",
   "execution_count": 27,
   "id": "26809c6c-e54a-4561-bd33-f990b5ea9bb4",
   "metadata": {},
   "outputs": [],
   "source": [
    "world_country_unk2 = result_unk2[['track_id','album_id','artist_id', 'artist_country', 'country']].groupby(['artist_country']).nunique().reset_index()\n",
    "world_country_unk2 = world_country_unk2.rename(columns={'artist_country':'Code'})"
   ]
  },
  {
   "cell_type": "markdown",
   "id": "2b6d9e35-0513-476a-9098-6dbb263d6d50",
   "metadata": {},
   "source": [
    "### New dataset with artist's origin country "
   ]
  },
  {
   "cell_type": "code",
   "execution_count": 28,
   "id": "d1f1aebe-3d9d-4e11-9fb9-fa289a7c0671",
   "metadata": {},
   "outputs": [
    {
     "data": {
      "text/html": [
       "<div>\n",
       "<style scoped>\n",
       "    .dataframe tbody tr th:only-of-type {\n",
       "        vertical-align: middle;\n",
       "    }\n",
       "\n",
       "    .dataframe tbody tr th {\n",
       "        vertical-align: top;\n",
       "    }\n",
       "\n",
       "    .dataframe thead th {\n",
       "        text-align: right;\n",
       "    }\n",
       "</style>\n",
       "<table border=\"1\" class=\"dataframe\">\n",
       "  <thead>\n",
       "    <tr style=\"text-align: right;\">\n",
       "      <th></th>\n",
       "      <th>user_id</th>\n",
       "      <th>artist_id</th>\n",
       "      <th>album_id</th>\n",
       "      <th>track_id</th>\n",
       "      <th>timestamp</th>\n",
       "      <th>index</th>\n",
       "      <th>country</th>\n",
       "      <th>age</th>\n",
       "      <th>gender</th>\n",
       "      <th>playcount</th>\n",
       "      <th>registered_unixtime</th>\n",
       "      <th>artist_country</th>\n",
       "    </tr>\n",
       "  </thead>\n",
       "  <tbody>\n",
       "    <tr>\n",
       "      <th>0</th>\n",
       "      <td>31435741</td>\n",
       "      <td>21</td>\n",
       "      <td>31</td>\n",
       "      <td>53</td>\n",
       "      <td>1370977938</td>\n",
       "      <td>51552</td>\n",
       "      <td>RU</td>\n",
       "      <td>18</td>\n",
       "      <td>m</td>\n",
       "      <td>88048</td>\n",
       "      <td>1279825291</td>\n",
       "      <td>US</td>\n",
       "    </tr>\n",
       "    <tr>\n",
       "      <th>1</th>\n",
       "      <td>31435741</td>\n",
       "      <td>21</td>\n",
       "      <td>31</td>\n",
       "      <td>53</td>\n",
       "      <td>1370977728</td>\n",
       "      <td>51552</td>\n",
       "      <td>RU</td>\n",
       "      <td>18</td>\n",
       "      <td>m</td>\n",
       "      <td>88048</td>\n",
       "      <td>1279825291</td>\n",
       "      <td>US</td>\n",
       "    </tr>\n",
       "    <tr>\n",
       "      <th>2</th>\n",
       "      <td>31435741</td>\n",
       "      <td>21</td>\n",
       "      <td>31</td>\n",
       "      <td>53</td>\n",
       "      <td>1370977518</td>\n",
       "      <td>51552</td>\n",
       "      <td>RU</td>\n",
       "      <td>18</td>\n",
       "      <td>m</td>\n",
       "      <td>88048</td>\n",
       "      <td>1279825291</td>\n",
       "      <td>US</td>\n",
       "    </tr>\n",
       "    <tr>\n",
       "      <th>3</th>\n",
       "      <td>31435741</td>\n",
       "      <td>21</td>\n",
       "      <td>31</td>\n",
       "      <td>53</td>\n",
       "      <td>1370977308</td>\n",
       "      <td>51552</td>\n",
       "      <td>RU</td>\n",
       "      <td>18</td>\n",
       "      <td>m</td>\n",
       "      <td>88048</td>\n",
       "      <td>1279825291</td>\n",
       "      <td>US</td>\n",
       "    </tr>\n",
       "    <tr>\n",
       "      <th>4</th>\n",
       "      <td>31435741</td>\n",
       "      <td>21</td>\n",
       "      <td>31</td>\n",
       "      <td>53</td>\n",
       "      <td>1370977098</td>\n",
       "      <td>51552</td>\n",
       "      <td>RU</td>\n",
       "      <td>18</td>\n",
       "      <td>m</td>\n",
       "      <td>88048</td>\n",
       "      <td>1279825291</td>\n",
       "      <td>US</td>\n",
       "    </tr>\n",
       "    <tr>\n",
       "      <th>...</th>\n",
       "      <td>...</td>\n",
       "      <td>...</td>\n",
       "      <td>...</td>\n",
       "      <td>...</td>\n",
       "      <td>...</td>\n",
       "      <td>...</td>\n",
       "      <td>...</td>\n",
       "      <td>...</td>\n",
       "      <td>...</td>\n",
       "      <td>...</td>\n",
       "      <td>...</td>\n",
       "      <td>...</td>\n",
       "    </tr>\n",
       "    <tr>\n",
       "      <th>3300928</th>\n",
       "      <td>49091935</td>\n",
       "      <td>254478</td>\n",
       "      <td>889951</td>\n",
       "      <td>8851152</td>\n",
       "      <td>1344850648</td>\n",
       "      <td>102958</td>\n",
       "      <td>DE</td>\n",
       "      <td>23</td>\n",
       "      <td>m</td>\n",
       "      <td>207</td>\n",
       "      <td>1333926738</td>\n",
       "      <td>DE</td>\n",
       "    </tr>\n",
       "    <tr>\n",
       "      <th>3300929</th>\n",
       "      <td>49091935</td>\n",
       "      <td>254478</td>\n",
       "      <td>889951</td>\n",
       "      <td>8851227</td>\n",
       "      <td>1344850461</td>\n",
       "      <td>102958</td>\n",
       "      <td>DE</td>\n",
       "      <td>23</td>\n",
       "      <td>m</td>\n",
       "      <td>207</td>\n",
       "      <td>1333926738</td>\n",
       "      <td>DE</td>\n",
       "    </tr>\n",
       "    <tr>\n",
       "      <th>3300930</th>\n",
       "      <td>49091935</td>\n",
       "      <td>254478</td>\n",
       "      <td>889951</td>\n",
       "      <td>2253120</td>\n",
       "      <td>1344850123</td>\n",
       "      <td>102958</td>\n",
       "      <td>DE</td>\n",
       "      <td>23</td>\n",
       "      <td>m</td>\n",
       "      <td>207</td>\n",
       "      <td>1333926738</td>\n",
       "      <td>DE</td>\n",
       "    </tr>\n",
       "    <tr>\n",
       "      <th>3300931</th>\n",
       "      <td>49091935</td>\n",
       "      <td>254478</td>\n",
       "      <td>889951</td>\n",
       "      <td>5712738</td>\n",
       "      <td>1344849919</td>\n",
       "      <td>102958</td>\n",
       "      <td>DE</td>\n",
       "      <td>23</td>\n",
       "      <td>m</td>\n",
       "      <td>207</td>\n",
       "      <td>1333926738</td>\n",
       "      <td>DE</td>\n",
       "    </tr>\n",
       "    <tr>\n",
       "      <th>3300932</th>\n",
       "      <td>49091935</td>\n",
       "      <td>254478</td>\n",
       "      <td>889951</td>\n",
       "      <td>2253122</td>\n",
       "      <td>1344849577</td>\n",
       "      <td>102958</td>\n",
       "      <td>DE</td>\n",
       "      <td>23</td>\n",
       "      <td>m</td>\n",
       "      <td>207</td>\n",
       "      <td>1333926738</td>\n",
       "      <td>DE</td>\n",
       "    </tr>\n",
       "  </tbody>\n",
       "</table>\n",
       "<p>16687354 rows × 12 columns</p>\n",
       "</div>"
      ],
      "text/plain": [
       "          user_id  artist_id  album_id  track_id   timestamp   index country  \\\n",
       "0        31435741         21        31        53  1370977938   51552      RU   \n",
       "1        31435741         21        31        53  1370977728   51552      RU   \n",
       "2        31435741         21        31        53  1370977518   51552      RU   \n",
       "3        31435741         21        31        53  1370977308   51552      RU   \n",
       "4        31435741         21        31        53  1370977098   51552      RU   \n",
       "...           ...        ...       ...       ...         ...     ...     ...   \n",
       "3300928  49091935     254478    889951   8851152  1344850648  102958      DE   \n",
       "3300929  49091935     254478    889951   8851227  1344850461  102958      DE   \n",
       "3300930  49091935     254478    889951   2253120  1344850123  102958      DE   \n",
       "3300931  49091935     254478    889951   5712738  1344849919  102958      DE   \n",
       "3300932  49091935     254478    889951   2253122  1344849577  102958      DE   \n",
       "\n",
       "         age gender  playcount  registered_unixtime artist_country  \n",
       "0         18      m      88048           1279825291             US  \n",
       "1         18      m      88048           1279825291             US  \n",
       "2         18      m      88048           1279825291             US  \n",
       "3         18      m      88048           1279825291             US  \n",
       "4         18      m      88048           1279825291             US  \n",
       "...      ...    ...        ...                  ...            ...  \n",
       "3300928   23      m        207           1333926738             DE  \n",
       "3300929   23      m        207           1333926738             DE  \n",
       "3300930   23      m        207           1333926738             DE  \n",
       "3300931   23      m        207           1333926738             DE  \n",
       "3300932   23      m        207           1333926738             DE  \n",
       "\n",
       "[16687354 rows x 12 columns]"
      ]
     },
     "execution_count": 28,
     "metadata": {},
     "output_type": "execute_result"
    }
   ],
   "source": [
    "events_final = pd.concat([result_kwn,result_unk1,result_unk2])\n",
    "#events_final.to_csv(\"data/LFM1-BeyMS-artist_country.csv\")\n",
    "events_final"
   ]
  },
  {
   "cell_type": "markdown",
   "id": "da983529-79e8-4161-b1e3-ae9577d5a1cd",
   "metadata": {},
   "source": [
    "#### GMMA processing - IDF"
   ]
  },
  {
   "cell_type": "code",
   "execution_count": 29,
   "id": "e6e1e58a-c40c-4dd0-b8be-de5016d8ecd8",
   "metadata": {},
   "outputs": [],
   "source": [
    "events_final_unique_tracks = events_final[['track_id','artist_country']].drop_duplicates()"
   ]
  },
  {
   "cell_type": "code",
   "execution_count": 30,
   "id": "a99fd8b5-78fc-4f7b-bc0e-d1e11acbb734",
   "metadata": {},
   "outputs": [],
   "source": [
    "tracks_country = events_final_unique_tracks.groupby(['artist_country']).size().reset_index()\n",
    "tracks_country = tracks_country.rename(columns={0:'tracks_country','artist_country':'Code'})"
   ]
  },
  {
   "cell_type": "code",
   "execution_count": 31,
   "id": "bad725e3-3b93-4618-ad33-7e400e697d28",
   "metadata": {},
   "outputs": [],
   "source": [
    "world_country_data = events_final[['track_id','album_id','artist_id', 'artist_country', 'country']].groupby(['artist_country']).nunique().reset_index()\n",
    "world_country_data = world_country_data.rename(columns={'artist_country':'Code'})"
   ]
  },
  {
   "cell_type": "code",
   "execution_count": 32,
   "id": "cefcbafd-ac56-41bb-b968-1461e7310447",
   "metadata": {},
   "outputs": [],
   "source": [
    "un=pd.DataFrame([['Unknown']],columns=['Code'])\n",
    "cod=iso_country[['Code']].drop_duplicates()\n",
    "iso_ctr= pd.concat([un,cod]).reset_index(drop=True)\n",
    "iso_id=iso_ctr.reset_index().rename(columns={'index':'country_id'})"
   ]
  },
  {
   "cell_type": "code",
   "execution_count": 33,
   "id": "048fda5e-5684-408a-96cc-e5d3faa08ce7",
   "metadata": {},
   "outputs": [],
   "source": [
    "user_country = events_final[['user_id','country']].drop_duplicates().groupby('country').size().reset_index()"
   ]
  },
  {
   "cell_type": "code",
   "execution_count": 34,
   "id": "23aa4693-bcbd-4e45-a71f-09ba66328e30",
   "metadata": {},
   "outputs": [],
   "source": [
    "user_country = user_country.rename(columns={'country':'Code',0:'users'})"
   ]
  },
  {
   "cell_type": "code",
   "execution_count": 35,
   "id": "2e5e4b2b-208a-4c11-b7aa-bf95ff8351e1",
   "metadata": {},
   "outputs": [],
   "source": [
    "country_total = pd.merge(pd.merge(pd.merge(iso_id, user_country, how='left', on=['Code']),world_country_data, how='left', on=['Code']),tracks_country, how='left', on=['Code'])\n",
    "country_total = country_total.rename(columns={'playcount_x':'artist','playcount_y':'tracks'})\n",
    "country_total = country_total.fillna(0)"
   ]
  },
  {
   "cell_type": "code",
   "execution_count": 36,
   "id": "7ce308ff-fbfd-4a53-ad1d-2b24f83f9afb",
   "metadata": {},
   "outputs": [],
   "source": [
    "country_total_final = country_total.query('tracks_country!=0')"
   ]
  },
  {
   "cell_type": "code",
   "execution_count": 37,
   "id": "5fc526ed-2d25-4f09-bd0c-3068892873ee",
   "metadata": {},
   "outputs": [
    {
     "name": "stdout",
     "output_type": "stream",
     "text": [
      "16687354\n"
     ]
    }
   ],
   "source": [
    "n_documents_all = len(events_final)\n",
    "n_documents = len(events_final_unique_tracks)\n",
    "print(n_documents_all)"
   ]
  },
  {
   "cell_type": "code",
   "execution_count": 38,
   "id": "67b2cde8-4b80-466e-af00-008b241262c6",
   "metadata": {},
   "outputs": [
    {
     "name": "stdout",
     "output_type": "stream",
     "text": [
      "1084921\n"
     ]
    }
   ],
   "source": [
    "print(n_documents)\n",
    "country_total_final['idf_scores'] = country_total_final['tracks_country'].map(lambda x: np.log10(n_documents / x) )\n",
    "country_total_final['idf_scores_all'] = country_total_final['tracks_country'].map(lambda x: np.log10(n_documents_all / x) )"
   ]
  },
  {
   "cell_type": "code",
   "execution_count": 39,
   "id": "bd118c7d-88d0-4ba5-8406-7d98f6e9b414",
   "metadata": {},
   "outputs": [],
   "source": [
    "country_total_30 = country_total_final"
   ]
  },
  {
   "cell_type": "code",
   "execution_count": 40,
   "id": "c2472387-f1de-432e-ad39-ae41cdd00451",
   "metadata": {},
   "outputs": [
    {
     "data": {
      "image/png": "[encoded data removed]",
      "text/plain": [
       "<Figure size 720x360 with 1 Axes>"
      ]
     },
     "metadata": {
      "needs_background": "light"
     },
     "output_type": "display_data"
    }
   ],
   "source": [
    "# GMMA score per artist country\n",
    "plt.figure(figsize=(10,5))\n",
    "plt.plot(country_total_30[['idf_scores']].sort_values(by='idf_scores',ascending=True).reset_index(drop=True), \"-o\")\n",
    "plt.plot(country_total_30[['idf_scores_all']].sort_values(by='idf_scores_all',ascending=True).reset_index(drop=True), \"-x\")\n",
    "plt.xlabel(\"Artist Country\")\n",
    "plt.ylabel(\"Artist Country IDF-score\")\n",
    "plt.axhline(y=1.4, linestyle=\"--\", color=\"black\", label=\"Lower bound (1.40)\")\n",
    "plt.axhline(y=6.0, linestyle=\"--\", color=\"black\", label=\"Upper bound (6.00)\")\n",
    "plt.legend()\n",
    "plt.grid(False)\n",
    "plt.show()"
   ]
  },
  {
   "cell_type": "code",
   "execution_count": 41,
   "id": "16ed43b3-6fa4-4205-ae5b-01722dc8aa3d",
   "metadata": {},
   "outputs": [
    {
     "name": "stderr",
     "output_type": "stream",
     "text": [
      "No artists with labels found to put in legend.  Note that artists whose label start with an underscore are ignored when legend() is called with no argument.\n"
     ]
    },
    {
     "data": {
      "image/png": "[encoded data removed]",
      "text/plain": [
       "<Figure size 720x360 with 1 Axes>"
      ]
     },
     "metadata": {
      "needs_background": "light"
     },
     "output_type": "display_data"
    }
   ],
   "source": [
    "# Long tail per artist country\n",
    "plt.figure(figsize=(10,5))\n",
    "plt.plot(country_total_30[['tracks_country']].sort_values(by='tracks_country', ascending=False).reset_index(drop=True), \"x\")\n",
    "plt.xlabel(\"Artist Country\")\n",
    "plt.ylabel(\"Total tracks\")\n",
    "plt.legend()\n",
    "plt.grid(False)\n",
    "plt.show()"
   ]
  },
  {
   "cell_type": "code",
   "execution_count": 42,
   "id": "a2614d59-5b56-4847-8017-a9fd1e7b0466",
   "metadata": {},
   "outputs": [],
   "source": [
    "def f(x, n, a, b):\n",
    "    return b/((n/x)**a + 1)"
   ]
  },
  {
   "cell_type": "code",
   "execution_count": 43,
   "id": "c64b7be1-b2fa-443f-87d1-7eedef3a2c2f",
   "metadata": {},
   "outputs": [
    {
     "data": {
      "image/png": "[encoded data removed]",
      "text/plain": [
       "<Figure size 432x288 with 1 Axes>"
      ]
     },
     "metadata": {
      "needs_background": "light"
     },
     "output_type": "display_data"
    }
   ],
   "source": [
    "x = np.cumsum(country_total_30['tracks_country'])\n",
    "plt.plot(x, f(x, 2, .978, 1.03))\n",
    "plt.show()"
   ]
  },
  {
   "cell_type": "code",
   "execution_count": 44,
   "id": "87651434-d516-43e4-8f09-7f7fc93d09a8",
   "metadata": {},
   "outputs": [],
   "source": [
    "cumulative = np.cumsum(country_total_30[['tracks_country']].sort_values(by='tracks_country', ascending=False).reset_index(drop=True))"
   ]
  },
  {
   "cell_type": "code",
   "execution_count": 45,
   "id": "f3ff8c95-0d86-4351-914b-a2bca2a7ec4f",
   "metadata": {},
   "outputs": [],
   "source": [
    "#country_total_30[['tracks_country']].sort_values(by='tracks_country', ascending=False).reset_index(drop=True).to_csv(\"tracks_ranked_country.csv\", index=False)"
   ]
  },
  {
   "cell_type": "code",
   "execution_count": 46,
   "id": "de6c57a8-1805-4d2a-a0b0-c98219e10e68",
   "metadata": {},
   "outputs": [],
   "source": [
    "cum_pcnt = cumulative / n_documents * 100"
   ]
  },
  {
   "cell_type": "code",
   "execution_count": 47,
   "id": "59b80e74-888f-4a0b-8c3e-6860188d8a65",
   "metadata": {},
   "outputs": [
    {
     "data": {
      "image/png": "[encoded data removed]",
      "text/plain": [
       "<Figure size 720x360 with 1 Axes>"
      ]
     },
     "metadata": {
      "needs_background": "light"
     },
     "output_type": "display_data"
    }
   ],
   "source": [
    "# Cumulative percentage - long tail\n",
    "plt.figure(figsize=(10,5))\n",
    "plt.plot(cum_pcnt)\n",
    "plt.xlabel(\"Artist Country rank\")\n",
    "plt.ylabel(\"Cumulative percentage of tracks\")\n",
    "plt.axvline(x=2, linestyle=\"--\", color=\"black\", label=\"X head-mid bound (2)\")\n",
    "plt.axvline(x=4, linestyle=\"--\", color=\"black\", label=\"X mid-tail bound (4)\")\n",
    "plt.legend()\n",
    "plt.grid(False)\n",
    "plt.show()"
   ]
  },
  {
   "cell_type": "code",
   "execution_count": 48,
   "id": "b1e6ddbd-4808-4582-941b-e0da3d0fbe89",
   "metadata": {},
   "outputs": [
    {
     "name": "stdout",
     "output_type": "stream",
     "text": [
      "2\n"
     ]
    }
   ],
   "source": [
    "head_mid_group = round(2**(2/3))\n",
    "print(head_mid_group)"
   ]
  },
  {
   "cell_type": "code",
   "execution_count": 49,
   "id": "b9a5f9b5-b5fe-4431-adfc-26dda5e00ebc",
   "metadata": {},
   "outputs": [
    {
     "name": "stdout",
     "output_type": "stream",
     "text": [
      "3\n"
     ]
    }
   ],
   "source": [
    "mid_tail_group = round(head_mid_group**(4/3))\n",
    "print(mid_tail_group)"
   ]
  },
  {
   "cell_type": "code",
   "execution_count": 50,
   "id": "805c1b7e-221b-4ac4-ae5e-2302a2a1af37",
   "metadata": {},
   "outputs": [],
   "source": [
    "country_idf = country_total_final[['country_id','Code','idf_scores']].sort_values(by='country_id')"
   ]
  },
  {
   "cell_type": "code",
   "execution_count": 51,
   "id": "1495a762-5ecb-48e5-bdf9-a98c6180f3bc",
   "metadata": {},
   "outputs": [],
   "source": [
    "country_idf_all = country_total_final[['country_id','Code','idf_scores_all']].sort_values(by='country_id')"
   ]
  },
  {
   "cell_type": "code",
   "execution_count": 52,
   "id": "0776e0e6-a110-42e9-be39-77e4a25fb3bf",
   "metadata": {},
   "outputs": [],
   "source": [
    "events_filtered = events_final[events_final['artist_country'].isin(country_total_30['Code'])]"
   ]
  },
  {
   "cell_type": "code",
   "execution_count": 53,
   "id": "ef014148-9d4b-4f7b-950c-9ceded07f0da",
   "metadata": {},
   "outputs": [],
   "source": [
    "events_filtered['artist_country_id'] = events_filtered['artist_country'].map(country_idf.set_index('Code')['country_id'])"
   ]
  },
  {
   "cell_type": "code",
   "execution_count": 54,
   "id": "f128e331-a2f3-462d-9a81-19d17d3380ec",
   "metadata": {},
   "outputs": [],
   "source": [
    "track_idf = pd.merge(events_filtered, country_idf, left_on='artist_country_id', right_on='country_id')\n",
    "track_idf_all = pd.merge(events_filtered, country_idf_all, left_on='artist_country_id', right_on='country_id')"
   ]
  },
  {
   "cell_type": "code",
   "execution_count": 55,
   "id": "4e92562a-bdfc-4d6e-a857-ba1c8bdead67",
   "metadata": {},
   "outputs": [],
   "source": [
    "track_idf = track_idf[['track_id','artist_id','idf_scores']].drop_duplicates()\n",
    "track_idf_all = track_idf_all[['track_id','artist_id','idf_scores_all']].drop_duplicates()"
   ]
  },
  {
   "cell_type": "code",
   "execution_count": 56,
   "id": "403036b0-bbca-4648-b013-92ad06600e35",
   "metadata": {},
   "outputs": [],
   "source": [
    "#track_idf.to_csv('tracks_idf.csv', index=False)\n",
    "#track_idf_all.to_csv('tracks_idf_all.csv', index=False)"
   ]
  },
  {
   "cell_type": "code",
   "execution_count": 57,
   "id": "03c94a2b-0fd0-44a6-a405-017ee20fca68",
   "metadata": {},
   "outputs": [],
   "source": [
    "events_filtered['group'] = np.select(\n",
    "    [\n",
    "        events_filtered['artist_country']=='US', \n",
    "        events_filtered['artist_country']=='GB',\n",
    "        events_filtered['artist_country']=='DE',\n",
    "        events_filtered['artist_country']=='SE',\n",
    "        events_filtered['artist_country']=='RU',\n",
    "        events_filtered['artist_country']=='ES'\n",
    "    ], \n",
    "    [\n",
    "        '1', \n",
    "        '2',\n",
    "        '2',\n",
    "        '2',\n",
    "        '2',\n",
    "        '2'\n",
    "    ], \n",
    "    default='3'\n",
    ")"
   ]
  },
  {
   "cell_type": "code",
   "execution_count": 58,
   "id": "4913260b-9c0f-42be-87bf-8aef852d3801",
   "metadata": {},
   "outputs": [],
   "source": [
    "#events_filtered[['user_id','artist_id','album_id','track_id','timestamp','artist_country_id','group']].to_csv('events_filtered.csv', index=False)"
   ]
  },
  {
   "cell_type": "code",
   "execution_count": 59,
   "id": "1f07d84a-91c5-4c65-89f9-ea2630651c7f",
   "metadata": {},
   "outputs": [],
   "source": [
    "#country_idf.to_csv('country_idf.csv', index=False)"
   ]
  },
  {
   "cell_type": "code",
   "execution_count": 60,
   "id": "f6be88e2-c0bf-4a08-a3b7-7484366af73b",
   "metadata": {},
   "outputs": [],
   "source": [
    "#country_total_30.to_csv('country_total_30.csv', index=False)"
   ]
  },
  {
   "cell_type": "code",
   "execution_count": 61,
   "id": "1c852a03-ed95-40ec-b3a5-c3107136ab73",
   "metadata": {},
   "outputs": [
    {
     "data": {
      "text/html": [
       "<div>\n",
       "<style scoped>\n",
       "    .dataframe tbody tr th:only-of-type {\n",
       "        vertical-align: middle;\n",
       "    }\n",
       "\n",
       "    .dataframe tbody tr th {\n",
       "        vertical-align: top;\n",
       "    }\n",
       "\n",
       "    .dataframe thead th {\n",
       "        text-align: right;\n",
       "    }\n",
       "</style>\n",
       "<table border=\"1\" class=\"dataframe\">\n",
       "  <thead>\n",
       "    <tr style=\"text-align: right;\">\n",
       "      <th></th>\n",
       "      <th>country_id</th>\n",
       "      <th>Code</th>\n",
       "      <th>idf_scores</th>\n",
       "    </tr>\n",
       "  </thead>\n",
       "  <tbody>\n",
       "    <tr>\n",
       "      <th>1</th>\n",
       "      <td>1</td>\n",
       "      <td>AF</td>\n",
       "      <td>5.433338</td>\n",
       "    </tr>\n",
       "    <tr>\n",
       "      <th>4</th>\n",
       "      <td>4</td>\n",
       "      <td>DZ</td>\n",
       "      <td>3.836741</td>\n",
       "    </tr>\n",
       "    <tr>\n",
       "      <th>6</th>\n",
       "      <td>6</td>\n",
       "      <td>AD</td>\n",
       "      <td>4.412149</td>\n",
       "    </tr>\n",
       "    <tr>\n",
       "      <th>7</th>\n",
       "      <td>7</td>\n",
       "      <td>AO</td>\n",
       "      <td>4.530248</td>\n",
       "    </tr>\n",
       "    <tr>\n",
       "      <th>10</th>\n",
       "      <td>10</td>\n",
       "      <td>AG</td>\n",
       "      <td>6.035398</td>\n",
       "    </tr>\n",
       "    <tr>\n",
       "      <th>...</th>\n",
       "      <td>...</td>\n",
       "      <td>...</td>\n",
       "      <td>...</td>\n",
       "    </tr>\n",
       "    <tr>\n",
       "      <th>243</th>\n",
       "      <td>243</td>\n",
       "      <td>VG</td>\n",
       "      <td>4.637458</td>\n",
       "    </tr>\n",
       "    <tr>\n",
       "      <th>244</th>\n",
       "      <td>244</td>\n",
       "      <td>VI</td>\n",
       "      <td>4.327828</td>\n",
       "    </tr>\n",
       "    <tr>\n",
       "      <th>246</th>\n",
       "      <td>246</td>\n",
       "      <td>EH</td>\n",
       "      <td>4.831278</td>\n",
       "    </tr>\n",
       "    <tr>\n",
       "      <th>248</th>\n",
       "      <td>248</td>\n",
       "      <td>ZM</td>\n",
       "      <td>5.734368</td>\n",
       "    </tr>\n",
       "    <tr>\n",
       "      <th>249</th>\n",
       "      <td>249</td>\n",
       "      <td>ZW</td>\n",
       "      <td>4.994005</td>\n",
       "    </tr>\n",
       "  </tbody>\n",
       "</table>\n",
       "<p>158 rows × 3 columns</p>\n",
       "</div>"
      ],
      "text/plain": [
       "     country_id Code  idf_scores\n",
       "1             1   AF    5.433338\n",
       "4             4   DZ    3.836741\n",
       "6             6   AD    4.412149\n",
       "7             7   AO    4.530248\n",
       "10           10   AG    6.035398\n",
       "..          ...  ...         ...\n",
       "243         243   VG    4.637458\n",
       "244         244   VI    4.327828\n",
       "246         246   EH    4.831278\n",
       "248         248   ZM    5.734368\n",
       "249         249   ZW    4.994005\n",
       "\n",
       "[158 rows x 3 columns]"
      ]
     },
     "execution_count": 61,
     "metadata": {},
     "output_type": "execute_result"
    }
   ],
   "source": [
    "country_idf"
   ]
  },
  {
   "cell_type": "code",
   "execution_count": 62,
   "id": "8b9cb443-c1e8-4ad2-b942-755555f6e87c",
   "metadata": {},
   "outputs": [],
   "source": [
    "country_unique_total = events_filtered[['track_id','artist_country']].drop_duplicates().groupby('artist_country').size().reset_index()\n",
    "country_unique_total = country_unique_total.rename(columns={0:'count'})"
   ]
  },
  {
   "cell_type": "code",
   "execution_count": 63,
   "id": "e5b9ba36-e46b-4e43-bd12-9fc054a1e5fa",
   "metadata": {},
   "outputs": [],
   "source": [
    "country_unique_total['group'] = np.select(\n",
    "    [\n",
    "        country_unique_total['artist_country']=='US', \n",
    "        country_unique_total['artist_country']=='GB',\n",
    "        country_unique_total['artist_country']=='DE',\n",
    "        country_unique_total['artist_country']=='SE',\n",
    "        country_unique_total['artist_country']=='RU',\n",
    "        country_unique_total['artist_country']=='ES'\n",
    "    ], \n",
    "    [\n",
    "        '1', \n",
    "        '2',\n",
    "        '2',\n",
    "        '2',\n",
    "        '2',\n",
    "        '2'\n",
    "    ], \n",
    "    default='3'\n",
    ")"
   ]
  },
  {
   "cell_type": "code",
   "execution_count": 64,
   "id": "d6f8f922-b172-421c-bd72-88f5ab7ed835",
   "metadata": {},
   "outputs": [],
   "source": [
    "country_total_30['group'] = np.select(\n",
    "    [\n",
    "        country_total_30['Code']=='US', \n",
    "        country_total_30['Code']=='GB',\n",
    "        country_total_30['Code']=='DE',\n",
    "        country_total_30['Code']=='SE',\n",
    "        country_total_30['Code']=='RU',\n",
    "        country_total_30['Code']=='ES'\n",
    "    ], \n",
    "    [\n",
    "        '1', \n",
    "        '2',\n",
    "        '2',\n",
    "        '2',\n",
    "        '2',\n",
    "        '2'\n",
    "    ], \n",
    "    default='3'\n",
    ")"
   ]
  },
  {
   "cell_type": "code",
   "execution_count": 65,
   "id": "fbf2b73f-aa2e-4dc3-9b86-21cb89c9476d",
   "metadata": {},
   "outputs": [],
   "source": [
    "np.random.seed(21038875)\n",
    "ms_events = events_filtered[events_filtered['user_id'].isin(ms['user_id'])]"
   ]
  },
  {
   "cell_type": "code",
   "execution_count": 66,
   "id": "2a5d5649-1354-4207-ae13-178c1260dba1",
   "metadata": {},
   "outputs": [],
   "source": [
    "#ms_events.to_csv('ms_events.csv', index=False)"
   ]
  },
  {
   "cell_type": "code",
   "execution_count": 67,
   "id": "ec145a91-1090-421f-bf7c-fd16a5500b92",
   "metadata": {},
   "outputs": [],
   "source": [
    "np.random.seed(21038875)\n",
    "beyms_events = events_filtered[events_filtered['user_id'].isin(beyms['user_id'])]"
   ]
  },
  {
   "cell_type": "code",
   "execution_count": 68,
   "id": "58eb185c-9190-4903-ba30-baf714f15002",
   "metadata": {},
   "outputs": [],
   "source": [
    "#beyms_events.to_csv('beyms_events.csv', index=False)"
   ]
  },
  {
   "cell_type": "code",
   "execution_count": 69,
   "id": "c84120bc-e3ac-4993-be73-9e28c259af38",
   "metadata": {},
   "outputs": [],
   "source": [
    "events_filtered_2 = events_filtered"
   ]
  },
  {
   "cell_type": "code",
   "execution_count": 70,
   "id": "d21fbed3-4e5f-4bf5-a002-d9f12ad18d51",
   "metadata": {},
   "outputs": [],
   "source": [
    "tracks_group = events_filtered_2[['track_id','group']].drop_duplicates().reset_index()"
   ]
  },
  {
   "cell_type": "code",
   "execution_count": 71,
   "id": "52682266-d067-47bd-9a08-1e924b0689e1",
   "metadata": {},
   "outputs": [],
   "source": [
    "#events_filtered_2[['track_id','artist_country','group']].drop_duplicates().to_csv('all_tracks_sample.csv', index=False)"
   ]
  },
  {
   "cell_type": "code",
   "execution_count": 72,
   "id": "4bdaeaab-f724-4897-bb44-4b92ff06c400",
   "metadata": {},
   "outputs": [],
   "source": [
    "country_unique_all = events_filtered_2[['track_id','artist_country']].drop_duplicates().groupby('artist_country').size().reset_index()\n",
    "country_unique_all = country_unique_all.rename(columns={0:'count'})"
   ]
  },
  {
   "cell_type": "markdown",
   "id": "3097e621-1d5a-4b9b-855b-d7592eecd0d8",
   "metadata": {},
   "source": [
    "### Statistics"
   ]
  },
  {
   "cell_type": "code",
   "execution_count": 73,
   "id": "a2104269-759a-4ca6-b8bd-ac2ec9522af7",
   "metadata": {},
   "outputs": [
    {
     "data": {
      "text/html": [
       "<div>\n",
       "<style scoped>\n",
       "    .dataframe tbody tr th:only-of-type {\n",
       "        vertical-align: middle;\n",
       "    }\n",
       "\n",
       "    .dataframe tbody tr th {\n",
       "        vertical-align: top;\n",
       "    }\n",
       "\n",
       "    .dataframe thead th {\n",
       "        text-align: right;\n",
       "    }\n",
       "</style>\n",
       "<table border=\"1\" class=\"dataframe\">\n",
       "  <thead>\n",
       "    <tr style=\"text-align: right;\">\n",
       "      <th></th>\n",
       "      <th>user_id</th>\n",
       "      <th>artist_id</th>\n",
       "      <th>album_id</th>\n",
       "      <th>track_id</th>\n",
       "      <th>timestamp</th>\n",
       "      <th>index</th>\n",
       "      <th>age</th>\n",
       "      <th>playcount</th>\n",
       "      <th>registered_unixtime</th>\n",
       "      <th>artist_country_id</th>\n",
       "    </tr>\n",
       "  </thead>\n",
       "  <tbody>\n",
       "    <tr>\n",
       "      <th>count</th>\n",
       "      <td>1.668735e+07</td>\n",
       "      <td>1.668735e+07</td>\n",
       "      <td>1.668735e+07</td>\n",
       "      <td>1.668735e+07</td>\n",
       "      <td>1.668735e+07</td>\n",
       "      <td>1.668735e+07</td>\n",
       "      <td>1.668735e+07</td>\n",
       "      <td>1.668735e+07</td>\n",
       "      <td>1.668735e+07</td>\n",
       "      <td>1.668735e+07</td>\n",
       "    </tr>\n",
       "    <tr>\n",
       "      <th>mean</th>\n",
       "      <td>2.354032e+07</td>\n",
       "      <td>4.078814e+04</td>\n",
       "      <td>9.459619e+05</td>\n",
       "      <td>1.448733e+06</td>\n",
       "      <td>1.335334e+09</td>\n",
       "      <td>4.216479e+04</td>\n",
       "      <td>1.921431e+01</td>\n",
       "      <td>2.606665e+04</td>\n",
       "      <td>1.247021e+09</td>\n",
       "      <td>1.854887e+02</td>\n",
       "    </tr>\n",
       "    <tr>\n",
       "      <th>std</th>\n",
       "      <td>1.515331e+07</td>\n",
       "      <td>1.422832e+05</td>\n",
       "      <td>2.302657e+06</td>\n",
       "      <td>3.454734e+06</td>\n",
       "      <td>4.676375e+07</td>\n",
       "      <td>2.832883e+04</td>\n",
       "      <td>1.335499e+01</td>\n",
       "      <td>3.910045e+04</td>\n",
       "      <td>5.995199e+07</td>\n",
       "      <td>7.486688e+01</td>\n",
       "    </tr>\n",
       "    <tr>\n",
       "      <th>min</th>\n",
       "      <td>1.002693e+06</td>\n",
       "      <td>1.000000e+00</td>\n",
       "      <td>1.000000e+00</td>\n",
       "      <td>1.000000e+00</td>\n",
       "      <td>1.108341e+09</td>\n",
       "      <td>3.300000e+01</td>\n",
       "      <td>-1.000000e+00</td>\n",
       "      <td>-1.000000e+00</td>\n",
       "      <td>1.048091e+09</td>\n",
       "      <td>1.000000e+00</td>\n",
       "    </tr>\n",
       "    <tr>\n",
       "      <th>25%</th>\n",
       "      <td>9.435683e+06</td>\n",
       "      <td>3.004000e+03</td>\n",
       "      <td>2.928800e+04</td>\n",
       "      <td>1.049050e+05</td>\n",
       "      <td>1.312492e+09</td>\n",
       "      <td>1.896200e+04</td>\n",
       "      <td>1.700000e+01</td>\n",
       "      <td>5.711000e+03</td>\n",
       "      <td>1.203085e+09</td>\n",
       "      <td>1.120000e+02</td>\n",
       "    </tr>\n",
       "    <tr>\n",
       "      <th>50%</th>\n",
       "      <td>2.139100e+07</td>\n",
       "      <td>9.699000e+03</td>\n",
       "      <td>1.115030e+05</td>\n",
       "      <td>3.620680e+05</td>\n",
       "      <td>1.341322e+09</td>\n",
       "      <td>3.803700e+04</td>\n",
       "      <td>2.100000e+01</td>\n",
       "      <td>1.162000e+04</td>\n",
       "      <td>1.253200e+09</td>\n",
       "      <td>2.350000e+02</td>\n",
       "    </tr>\n",
       "    <tr>\n",
       "      <th>75%</th>\n",
       "      <td>3.664264e+07</td>\n",
       "      <td>2.831900e+04</td>\n",
       "      <td>4.922050e+05</td>\n",
       "      <td>1.131023e+06</td>\n",
       "      <td>1.370536e+09</td>\n",
       "      <td>6.016500e+04</td>\n",
       "      <td>2.500000e+01</td>\n",
       "      <td>3.223600e+04</td>\n",
       "      <td>1.295978e+09</td>\n",
       "      <td>2.360000e+02</td>\n",
       "    </tr>\n",
       "    <tr>\n",
       "      <th>max</th>\n",
       "      <td>5.090012e+07</td>\n",
       "      <td>3.180735e+06</td>\n",
       "      <td>1.595318e+07</td>\n",
       "      <td>3.221552e+07</td>\n",
       "      <td>1.409616e+09</td>\n",
       "      <td>1.203180e+05</td>\n",
       "      <td>1.120000e+02</td>\n",
       "      <td>7.595380e+05</td>\n",
       "      <td>1.342887e+09</td>\n",
       "      <td>2.490000e+02</td>\n",
       "    </tr>\n",
       "  </tbody>\n",
       "</table>\n",
       "</div>"
      ],
      "text/plain": [
       "            user_id     artist_id      album_id      track_id     timestamp  \\\n",
       "count  1.668735e+07  1.668735e+07  1.668735e+07  1.668735e+07  1.668735e+07   \n",
       "mean   2.354032e+07  4.078814e+04  9.459619e+05  1.448733e+06  1.335334e+09   \n",
       "std    1.515331e+07  1.422832e+05  2.302657e+06  3.454734e+06  4.676375e+07   \n",
       "min    1.002693e+06  1.000000e+00  1.000000e+00  1.000000e+00  1.108341e+09   \n",
       "25%    9.435683e+06  3.004000e+03  2.928800e+04  1.049050e+05  1.312492e+09   \n",
       "50%    2.139100e+07  9.699000e+03  1.115030e+05  3.620680e+05  1.341322e+09   \n",
       "75%    3.664264e+07  2.831900e+04  4.922050e+05  1.131023e+06  1.370536e+09   \n",
       "max    5.090012e+07  3.180735e+06  1.595318e+07  3.221552e+07  1.409616e+09   \n",
       "\n",
       "              index           age     playcount  registered_unixtime  \\\n",
       "count  1.668735e+07  1.668735e+07  1.668735e+07         1.668735e+07   \n",
       "mean   4.216479e+04  1.921431e+01  2.606665e+04         1.247021e+09   \n",
       "std    2.832883e+04  1.335499e+01  3.910045e+04         5.995199e+07   \n",
       "min    3.300000e+01 -1.000000e+00 -1.000000e+00         1.048091e+09   \n",
       "25%    1.896200e+04  1.700000e+01  5.711000e+03         1.203085e+09   \n",
       "50%    3.803700e+04  2.100000e+01  1.162000e+04         1.253200e+09   \n",
       "75%    6.016500e+04  2.500000e+01  3.223600e+04         1.295978e+09   \n",
       "max    1.203180e+05  1.120000e+02  7.595380e+05         1.342887e+09   \n",
       "\n",
       "       artist_country_id  \n",
       "count       1.668735e+07  \n",
       "mean        1.854887e+02  \n",
       "std         7.486688e+01  \n",
       "min         1.000000e+00  \n",
       "25%         1.120000e+02  \n",
       "50%         2.350000e+02  \n",
       "75%         2.360000e+02  \n",
       "max         2.490000e+02  "
      ]
     },
     "execution_count": 73,
     "metadata": {},
     "output_type": "execute_result"
    }
   ],
   "source": [
    "events_filtered.describe()"
   ]
  },
  {
   "cell_type": "code",
   "execution_count": 74,
   "id": "6c9384df-1756-47b4-a3db-b8cf5c77c350",
   "metadata": {},
   "outputs": [
    {
     "data": {
      "text/plain": [
       "4147"
      ]
     },
     "execution_count": 74,
     "metadata": {},
     "output_type": "execute_result"
    }
   ],
   "source": [
    "events_filtered['user_id'].drop_duplicates().count()"
   ]
  },
  {
   "cell_type": "code",
   "execution_count": 75,
   "id": "c6fbf782-61f6-4263-b12d-daac517d1fca",
   "metadata": {},
   "outputs": [
    {
     "data": {
      "text/plain": [
       "16687354"
      ]
     },
     "execution_count": 75,
     "metadata": {},
     "output_type": "execute_result"
    }
   ],
   "source": [
    "len(ms_events)+len(beyms_events)"
   ]
  },
  {
   "cell_type": "code",
   "execution_count": 76,
   "id": "09dfabef-94e3-46be-82f9-a03a4bd8be1e",
   "metadata": {},
   "outputs": [
    {
     "data": {
      "text/plain": [
       "7941784"
      ]
     },
     "execution_count": 76,
     "metadata": {},
     "output_type": "execute_result"
    }
   ],
   "source": [
    "len(beyms_events)"
   ]
  },
  {
   "cell_type": "code",
   "execution_count": 77,
   "id": "25e8ce9a-f601-4b08-a480-c0e590427c88",
   "metadata": {},
   "outputs": [
    {
     "data": {
      "text/plain": [
       "16687354"
      ]
     },
     "execution_count": 77,
     "metadata": {},
     "output_type": "execute_result"
    }
   ],
   "source": [
    "len(ms_events)+len(beyms_events)"
   ]
  },
  {
   "cell_type": "code",
   "execution_count": 78,
   "id": "de4dca68-93e0-4d98-8e15-c290e7a99158",
   "metadata": {},
   "outputs": [
    {
     "data": {
      "text/plain": [
       "1084921"
      ]
     },
     "execution_count": 78,
     "metadata": {},
     "output_type": "execute_result"
    }
   ],
   "source": [
    "events_filtered['track_id'].drop_duplicates().count()"
   ]
  },
  {
   "cell_type": "code",
   "execution_count": 79,
   "id": "dc970dac-dae4-40f0-ba59-6e94d8321fa9",
   "metadata": {},
   "outputs": [
    {
     "data": {
      "text/plain": [
       "count    4147.000000\n",
       "mean     1285.129732\n",
       "std       843.196908\n",
       "min         6.000000\n",
       "25%       664.500000\n",
       "50%      1128.000000\n",
       "75%      1707.000000\n",
       "max      5938.000000\n",
       "dtype: float64"
      ]
     },
     "execution_count": 79,
     "metadata": {},
     "output_type": "execute_result"
    }
   ],
   "source": [
    "events_filtered[['user_id','track_id']].drop_duplicates().groupby('user_id').size().describe()"
   ]
  },
  {
   "cell_type": "code",
   "execution_count": 80,
   "id": "c915d983-ed9c-4390-bad6-2dc729f4940a",
   "metadata": {},
   "outputs": [
    {
     "data": {
      "text/html": [
       "<div>\n",
       "<style scoped>\n",
       "    .dataframe tbody tr th:only-of-type {\n",
       "        vertical-align: middle;\n",
       "    }\n",
       "\n",
       "    .dataframe tbody tr th {\n",
       "        vertical-align: top;\n",
       "    }\n",
       "\n",
       "    .dataframe thead th {\n",
       "        text-align: right;\n",
       "    }\n",
       "</style>\n",
       "<table border=\"1\" class=\"dataframe\">\n",
       "  <thead>\n",
       "    <tr style=\"text-align: right;\">\n",
       "      <th></th>\n",
       "      <th>count</th>\n",
       "    </tr>\n",
       "  </thead>\n",
       "  <tbody>\n",
       "    <tr>\n",
       "      <th>count</th>\n",
       "      <td>158.000000</td>\n",
       "    </tr>\n",
       "    <tr>\n",
       "      <th>mean</th>\n",
       "      <td>6866.588608</td>\n",
       "    </tr>\n",
       "    <tr>\n",
       "      <th>std</th>\n",
       "      <td>33924.841542</td>\n",
       "    </tr>\n",
       "    <tr>\n",
       "      <th>min</th>\n",
       "      <td>1.000000</td>\n",
       "    </tr>\n",
       "    <tr>\n",
       "      <th>25%</th>\n",
       "      <td>15.250000</td>\n",
       "    </tr>\n",
       "    <tr>\n",
       "      <th>50%</th>\n",
       "      <td>65.000000</td>\n",
       "    </tr>\n",
       "    <tr>\n",
       "      <th>75%</th>\n",
       "      <td>1406.250000</td>\n",
       "    </tr>\n",
       "    <tr>\n",
       "      <th>max</th>\n",
       "      <td>387019.000000</td>\n",
       "    </tr>\n",
       "  </tbody>\n",
       "</table>\n",
       "</div>"
      ],
      "text/plain": [
       "               count\n",
       "count     158.000000\n",
       "mean     6866.588608\n",
       "std     33924.841542\n",
       "min         1.000000\n",
       "25%        15.250000\n",
       "50%        65.000000\n",
       "75%      1406.250000\n",
       "max    387019.000000"
      ]
     },
     "execution_count": 80,
     "metadata": {},
     "output_type": "execute_result"
    }
   ],
   "source": [
    "country_unique_all.sort_values('count', ascending=False).describe()"
   ]
  },
  {
   "cell_type": "code",
   "execution_count": 81,
   "id": "fbd40af1-4a99-4d43-9c18-06e9ea904ea4",
   "metadata": {},
   "outputs": [
    {
     "data": {
      "text/plain": [
       "artist_country\n",
       "AD     29\n",
       "AE     21\n",
       "AF      4\n",
       "AM     45\n",
       "AO     15\n",
       "     ... \n",
       "VG     19\n",
       "VI     29\n",
       "WS     25\n",
       "ZA    643\n",
       "ZW      6\n",
       "Length: 149, dtype: int64"
      ]
     },
     "execution_count": 81,
     "metadata": {},
     "output_type": "execute_result"
    }
   ],
   "source": [
    "beyms_events[['track_id','artist_country']].drop_duplicates().groupby('artist_country').size()"
   ]
  },
  {
   "cell_type": "code",
   "execution_count": 82,
   "id": "c9cc4ed5-1adf-40f5-ba4b-4ddcababf0d1",
   "metadata": {},
   "outputs": [
    {
     "data": {
      "text/plain": [
       "0               53\n",
       "54              86\n",
       "141            182\n",
       "203            289\n",
       "249            310\n",
       "            ...   \n",
       "3300928    8851152\n",
       "3300929    8851227\n",
       "3300930    2253120\n",
       "3300931    5712738\n",
       "3300932    2253122\n",
       "Name: track_id, Length: 799658, dtype: int64"
      ]
     },
     "execution_count": 82,
     "metadata": {},
     "output_type": "execute_result"
    }
   ],
   "source": [
    "beyms_events['track_id'].drop_duplicates()"
   ]
  },
  {
   "cell_type": "code",
   "execution_count": 83,
   "id": "e4275e7f-5352-41ac-bebe-396418ceca6f",
   "metadata": {},
   "outputs": [
    {
     "data": {
      "text/plain": [
       "artist_country\n",
       "AD     37\n",
       "AE     15\n",
       "AG      1\n",
       "AM     18\n",
       "AO     23\n",
       "     ... \n",
       "VI     35\n",
       "WS      7\n",
       "ZA    676\n",
       "ZM      2\n",
       "ZW      5\n",
       "Length: 151, dtype: int64"
      ]
     },
     "execution_count": 83,
     "metadata": {},
     "output_type": "execute_result"
    }
   ],
   "source": [
    "ms_events[['track_id','artist_country']].drop_duplicates().groupby('artist_country').size()"
   ]
  },
  {
   "cell_type": "code",
   "execution_count": 84,
   "id": "3842e72f-4e4f-4364-b621-270de2dabb94",
   "metadata": {},
   "outputs": [
    {
     "data": {
      "text/plain": [
       "5209           6734\n",
       "5233           6848\n",
       "5308           7069\n",
       "5317           7084\n",
       "5328           7095\n",
       "             ...   \n",
       "3300460     2596563\n",
       "3300463     3170518\n",
       "3300465     4764048\n",
       "3300470    13502462\n",
       "3300471     9156714\n",
       "Name: track_id, Length: 707005, dtype: int64"
      ]
     },
     "execution_count": 84,
     "metadata": {},
     "output_type": "execute_result"
    }
   ],
   "source": [
    "ms_events['track_id'].drop_duplicates()"
   ]
  },
  {
   "cell_type": "code",
   "execution_count": 85,
   "id": "c7a486e5-9cdd-4462-9be0-cf07ea900fcd",
   "metadata": {},
   "outputs": [
    {
     "data": {
      "text/html": [
       "<div>\n",
       "<style scoped>\n",
       "    .dataframe tbody tr th:only-of-type {\n",
       "        vertical-align: middle;\n",
       "    }\n",
       "\n",
       "    .dataframe tbody tr th {\n",
       "        vertical-align: top;\n",
       "    }\n",
       "\n",
       "    .dataframe thead th {\n",
       "        text-align: right;\n",
       "    }\n",
       "</style>\n",
       "<table border=\"1\" class=\"dataframe\">\n",
       "  <thead>\n",
       "    <tr style=\"text-align: right;\">\n",
       "      <th></th>\n",
       "      <th>country_id</th>\n",
       "      <th>Code</th>\n",
       "      <th>track_id</th>\n",
       "      <th>users</th>\n",
       "      <th>idf_scores</th>\n",
       "      <th>group</th>\n",
       "    </tr>\n",
       "  </thead>\n",
       "  <tbody>\n",
       "    <tr>\n",
       "      <th>236</th>\n",
       "      <td>236</td>\n",
       "      <td>US</td>\n",
       "      <td>387019.0</td>\n",
       "      <td>814.0</td>\n",
       "      <td>0.447666</td>\n",
       "      <td>1</td>\n",
       "    </tr>\n",
       "    <tr>\n",
       "      <th>235</th>\n",
       "      <td>235</td>\n",
       "      <td>GB</td>\n",
       "      <td>141765.0</td>\n",
       "      <td>373.0</td>\n",
       "      <td>0.883829</td>\n",
       "      <td>2</td>\n",
       "    </tr>\n",
       "    <tr>\n",
       "      <th>83</th>\n",
       "      <td>83</td>\n",
       "      <td>DE</td>\n",
       "      <td>87417.0</td>\n",
       "      <td>362.0</td>\n",
       "      <td>1.093802</td>\n",
       "      <td>2</td>\n",
       "    </tr>\n",
       "    <tr>\n",
       "      <th>215</th>\n",
       "      <td>215</td>\n",
       "      <td>SE</td>\n",
       "      <td>42855.0</td>\n",
       "      <td>87.0</td>\n",
       "      <td>1.403397</td>\n",
       "      <td>2</td>\n",
       "    </tr>\n",
       "    <tr>\n",
       "      <th>183</th>\n",
       "      <td>183</td>\n",
       "      <td>RU</td>\n",
       "      <td>41152.0</td>\n",
       "      <td>442.0</td>\n",
       "      <td>1.421007</td>\n",
       "      <td>2</td>\n",
       "    </tr>\n",
       "    <tr>\n",
       "      <th>209</th>\n",
       "      <td>209</td>\n",
       "      <td>ES</td>\n",
       "      <td>30681.0</td>\n",
       "      <td>88.0</td>\n",
       "      <td>1.548529</td>\n",
       "      <td>2</td>\n",
       "    </tr>\n",
       "    <tr>\n",
       "      <th>40</th>\n",
       "      <td>40</td>\n",
       "      <td>CA</td>\n",
       "      <td>30412.0</td>\n",
       "      <td>82.0</td>\n",
       "      <td>1.552353</td>\n",
       "      <td>3</td>\n",
       "    </tr>\n",
       "    <tr>\n",
       "      <th>76</th>\n",
       "      <td>76</td>\n",
       "      <td>FR</td>\n",
       "      <td>28967.0</td>\n",
       "      <td>70.0</td>\n",
       "      <td>1.573495</td>\n",
       "      <td>3</td>\n",
       "    </tr>\n",
       "    <tr>\n",
       "      <th>32</th>\n",
       "      <td>32</td>\n",
       "      <td>BR</td>\n",
       "      <td>28056.0</td>\n",
       "      <td>288.0</td>\n",
       "      <td>1.587372</td>\n",
       "      <td>3</td>\n",
       "    </tr>\n",
       "    <tr>\n",
       "      <th>75</th>\n",
       "      <td>75</td>\n",
       "      <td>FI</td>\n",
       "      <td>26165.0</td>\n",
       "      <td>101.0</td>\n",
       "      <td>1.617677</td>\n",
       "      <td>3</td>\n",
       "    </tr>\n",
       "  </tbody>\n",
       "</table>\n",
       "</div>"
      ],
      "text/plain": [
       "     country_id Code  track_id  users  idf_scores group\n",
       "236         236   US  387019.0  814.0    0.447666     1\n",
       "235         235   GB  141765.0  373.0    0.883829     2\n",
       "83           83   DE   87417.0  362.0    1.093802     2\n",
       "215         215   SE   42855.0   87.0    1.403397     2\n",
       "183         183   RU   41152.0  442.0    1.421007     2\n",
       "209         209   ES   30681.0   88.0    1.548529     2\n",
       "40           40   CA   30412.0   82.0    1.552353     3\n",
       "76           76   FR   28967.0   70.0    1.573495     3\n",
       "32           32   BR   28056.0  288.0    1.587372     3\n",
       "75           75   FI   26165.0  101.0    1.617677     3"
      ]
     },
     "execution_count": 85,
     "metadata": {},
     "output_type": "execute_result"
    }
   ],
   "source": [
    "country_total_30[['country_id','Code','track_id','users','idf_scores','group']].sort_values('track_id', ascending=False).head(10)"
   ]
  },
  {
   "cell_type": "code",
   "execution_count": 86,
   "id": "b5ff3ee4-061c-4f42-8f1c-639ac0e01b53",
   "metadata": {},
   "outputs": [
    {
     "name": "stdout",
     "output_type": "stream",
     "text": [
      "['CA', 'FR', 'BR', 'FI', 'IT', 'NL', 'AU', 'PL', 'NO', 'BE', 'UA', 'CH', 'DK', 'JP', 'MX', 'AT', 'TR', 'JM', 'CZ', 'IE', 'BY', 'AR', 'HU', 'CL', 'HR', 'NZ', 'GR', 'ID', 'IL', 'CN', 'PT', 'IS', 'BG', 'LT', 'CO', 'SK', 'RS', 'EE', 'IR', 'ZA', 'CU', 'RO', 'VE', 'PR', 'LV', 'KR', 'TW', 'IN', 'ML', 'SI', 'PH', 'SG', 'UY', 'NG', 'DZ', 'SN', 'MT', 'MK', 'FO', 'CM', 'EG', 'CV', 'LB', 'GT', 'MY', 'BM', 'PE', 'LU', 'BA', 'DO', 'PK', 'MD', 'CD', 'CI', 'MA', 'TN', 'CY', 'VI', 'AM', 'ET', 'GY', 'GN', 'AD', 'NI', 'KG', 'BB', 'KE', 'RE', 'PA', 'SA', 'CR', 'GH', 'AO', 'SY', 'BS', 'HT', 'PS', 'AE', 'BJ', 'WS', 'VG', 'TT', 'NE', 'SM', 'UZ', 'EC', 'IM', 'GE', 'GP', 'MZ', 'GD', 'EH', 'KZ', 'JE', 'ZW', 'MQ', 'MW', 'ME', 'SB', 'GM', 'LI', 'JO', 'MN', 'HN', 'MV', 'BI', 'PY', 'MR', 'NP', 'MG', 'BO', 'BF', 'BD', 'GF', 'AF', 'MC', 'SO', 'OM', 'GI', 'BH', 'ZM', 'SS', 'AZ', 'TH', 'ST', 'AG', 'TJ', 'CG', 'DM', 'RW', 'GW', 'IQ']\n"
     ]
    }
   ],
   "source": [
    "print(country_total_30.sort_values('track_id', ascending=False).query('group==\"3\"')['Code'].to_list())"
   ]
  },
  {
   "cell_type": "code",
   "execution_count": 87,
   "id": "fa473e25-a07e-40f0-a77a-760ac8673bff",
   "metadata": {},
   "outputs": [],
   "source": [
    "ms_b_grp = ms_events[['user_id','track_id','group']].drop_duplicates().groupby(['user_id','group']).size().reset_index().groupby(['user_id','group']).sum().reset_index()\n",
    "ms_b_tl = ms_events[['user_id','track_id','group']].drop_duplicates().groupby(['user_id']).size().reset_index()\n",
    "ms_b_grp = ms_b_grp.rename(columns={0:'count'})\n",
    "ms_b_tl = ms_b_tl.rename(columns={0:'total'})"
   ]
  },
  {
   "cell_type": "code",
   "execution_count": 88,
   "id": "fa512808-57de-4a4d-89e7-ebd20f0671aa",
   "metadata": {},
   "outputs": [],
   "source": [
    "ms_b = pd.merge(ms_b_grp, ms_b_tl, on='user_id', how='left')"
   ]
  },
  {
   "cell_type": "code",
   "execution_count": 89,
   "id": "46323203-50b1-42d8-9659-2844376feddd",
   "metadata": {},
   "outputs": [],
   "source": [
    "ms_b['pct'] = ms_b['count']/ms_b['total']*100"
   ]
  },
  {
   "cell_type": "code",
   "execution_count": 90,
   "id": "9e0a84ac-f7aa-40c4-b20a-2e47c3fdefdb",
   "metadata": {},
   "outputs": [
    {
     "data": {
      "text/html": [
       "<div>\n",
       "<style scoped>\n",
       "    .dataframe tbody tr th:only-of-type {\n",
       "        vertical-align: middle;\n",
       "    }\n",
       "\n",
       "    .dataframe tbody tr th {\n",
       "        vertical-align: top;\n",
       "    }\n",
       "\n",
       "    .dataframe thead th {\n",
       "        text-align: right;\n",
       "    }\n",
       "</style>\n",
       "<table border=\"1\" class=\"dataframe\">\n",
       "  <thead>\n",
       "    <tr style=\"text-align: right;\">\n",
       "      <th></th>\n",
       "      <th>user_id</th>\n",
       "      <th>count</th>\n",
       "      <th>total</th>\n",
       "      <th>pct</th>\n",
       "    </tr>\n",
       "    <tr>\n",
       "      <th>group</th>\n",
       "      <th></th>\n",
       "      <th></th>\n",
       "      <th></th>\n",
       "      <th></th>\n",
       "    </tr>\n",
       "  </thead>\n",
       "  <tbody>\n",
       "    <tr>\n",
       "      <th>1</th>\n",
       "      <td>23572045.5</td>\n",
       "      <td>648.81</td>\n",
       "      <td>1421.61</td>\n",
       "      <td>44.48</td>\n",
       "    </tr>\n",
       "    <tr>\n",
       "      <th>2</th>\n",
       "      <td>23535532.1</td>\n",
       "      <td>423.44</td>\n",
       "      <td>1421.47</td>\n",
       "      <td>29.11</td>\n",
       "    </tr>\n",
       "    <tr>\n",
       "      <th>3</th>\n",
       "      <td>23593277.5</td>\n",
       "      <td>349.40</td>\n",
       "      <td>1421.65</td>\n",
       "      <td>26.41</td>\n",
       "    </tr>\n",
       "  </tbody>\n",
       "</table>\n",
       "</div>"
      ],
      "text/plain": [
       "          user_id   count    total    pct\n",
       "group                                    \n",
       "1      23572045.5  648.81  1421.61  44.48\n",
       "2      23535532.1  423.44  1421.47  29.11\n",
       "3      23593277.5  349.40  1421.65  26.41"
      ]
     },
     "execution_count": 90,
     "metadata": {},
     "output_type": "execute_result"
    }
   ],
   "source": [
    "round(ms_b.groupby('group').sum()/len(ms_b['user_id'].drop_duplicates()),2)"
   ]
  },
  {
   "cell_type": "code",
   "execution_count": 91,
   "id": "607b5d21-159d-4b83-a1e5-02a5041a25e1",
   "metadata": {},
   "outputs": [
    {
     "data": {
      "text/html": [
       "<div>\n",
       "<style scoped>\n",
       "    .dataframe tbody tr th:only-of-type {\n",
       "        vertical-align: middle;\n",
       "    }\n",
       "\n",
       "    .dataframe tbody tr th {\n",
       "        vertical-align: top;\n",
       "    }\n",
       "\n",
       "    .dataframe thead th {\n",
       "        text-align: right;\n",
       "    }\n",
       "</style>\n",
       "<table border=\"1\" class=\"dataframe\">\n",
       "  <thead>\n",
       "    <tr style=\"text-align: right;\">\n",
       "      <th></th>\n",
       "      <th>user_id</th>\n",
       "      <th>count</th>\n",
       "      <th>total</th>\n",
       "      <th>pct</th>\n",
       "    </tr>\n",
       "    <tr>\n",
       "      <th>group</th>\n",
       "      <th></th>\n",
       "      <th></th>\n",
       "      <th></th>\n",
       "      <th></th>\n",
       "    </tr>\n",
       "  </thead>\n",
       "  <tbody>\n",
       "    <tr>\n",
       "      <th>1</th>\n",
       "      <td>25635858.40</td>\n",
       "      <td>518.88</td>\n",
       "      <td>1148.49</td>\n",
       "      <td>43.06</td>\n",
       "    </tr>\n",
       "    <tr>\n",
       "      <th>2</th>\n",
       "      <td>25561764.59</td>\n",
       "      <td>329.93</td>\n",
       "      <td>1148.39</td>\n",
       "      <td>28.47</td>\n",
       "    </tr>\n",
       "    <tr>\n",
       "      <th>3</th>\n",
       "      <td>25636110.43</td>\n",
       "      <td>299.73</td>\n",
       "      <td>1148.48</td>\n",
       "      <td>28.47</td>\n",
       "    </tr>\n",
       "  </tbody>\n",
       "</table>\n",
       "</div>"
      ],
      "text/plain": [
       "           user_id   count    total    pct\n",
       "group                                     \n",
       "1      25635858.40  518.88  1148.49  43.06\n",
       "2      25561764.59  329.93  1148.39  28.47\n",
       "3      25636110.43  299.73  1148.48  28.47"
      ]
     },
     "execution_count": 91,
     "metadata": {},
     "output_type": "execute_result"
    }
   ],
   "source": [
    "beyms_b_grp = beyms_events[['user_id','track_id','group']].drop_duplicates().groupby(['user_id','group']).size().reset_index().groupby(['user_id','group']).sum().reset_index()\n",
    "beyms_b_tl = beyms_events[['user_id','track_id','group']].drop_duplicates().groupby(['user_id']).size().reset_index()\n",
    "beyms_b_grp = beyms_b_grp.rename(columns={0:'count'})\n",
    "beyms_b_tl = beyms_b_tl.rename(columns={0:'total'})\n",
    "beyms_b = pd.merge(beyms_b_grp, beyms_b_tl, on='user_id', how='left')\n",
    "beyms_b['pct'] = beyms_b['count']/beyms_b['total']*100\n",
    "round(beyms_b.groupby('group').sum()/len(beyms_b['user_id'].drop_duplicates()),2)"
   ]
  },
  {
   "cell_type": "markdown",
   "id": "9754b07c-3872-4655-9de0-2cd147ca3f1b",
   "metadata": {},
   "source": [
    "###  Original dataset features distribution"
   ]
  },
  {
   "cell_type": "code",
   "execution_count": 92,
   "id": "7e659b57-71f6-4f25-89ea-7cb6bd4e20a7",
   "metadata": {},
   "outputs": [],
   "source": [
    "acoustic_features_df = pd.read_csv('data/acoustic_features_lfm_id.tsv', sep='\\t')"
   ]
  },
  {
   "cell_type": "code",
   "execution_count": 93,
   "id": "9aa1b283-4c26-42ac-85c5-9c1d38b63ed1",
   "metadata": {},
   "outputs": [],
   "source": [
    "from sklearn.preprocessing import MinMaxScaler\n",
    "acoustic_features_df = acoustic_features_df[acoustic_features_df['track_id'].isin(events_filtered['track_id'].drop_duplicates())].set_index('track_id')\n",
    "acoustic_features_df = acoustic_features_df[[\"danceability\", \"energy\", \"speechiness\", \"acousticness\", \"instrumentalness\", \"tempo\", \"valence\", \"liveness\"]]\n",
    "acoustic_features_df = pd.DataFrame(index=acoustic_features_df.index, columns=acoustic_features_df.columns, data=MinMaxScaler().fit_transform(acoustic_features_df))\n",
    "\n"
   ]
  },
  {
   "cell_type": "code",
   "execution_count": 94,
   "id": "d5faa83e-786e-4ab5-94a6-e5a75692c672",
   "metadata": {},
   "outputs": [],
   "source": [
    "events_filtered['group_name'] = np.select(\n",
    "    [\n",
    "        events_filtered['group']=='1', \n",
    "        events_filtered['group']=='2',\n",
    "        events_filtered['group']=='3'\n",
    "\n",
    "    ], \n",
    "    [\n",
    "        'Group head', \n",
    "        'Group mid',\n",
    "        'Group tail'\n",
    "    ], \n",
    ")"
   ]
  },
  {
   "cell_type": "code",
   "execution_count": 95,
   "id": "8f024459-6d15-4941-ad3d-8d5101767993",
   "metadata": {},
   "outputs": [
    {
     "data": {
      "image/png": "[encoded data removed]",
      "text/plain": [
       "<Figure size 720x720 with 1 Axes>"
      ]
     },
     "metadata": {
      "needs_background": "light"
     },
     "output_type": "display_data"
    }
   ],
   "source": [
    "# Acoustic features in the original dataset\n",
    "df = acoustic_features_df.copy()\n",
    "df.columns = [feature.capitalize() for feature in df.columns]\n",
    "df = df.stack().reset_index()\n",
    "df.columns = [\"track_id\", \"feature\", \"value\"]\n",
    "df = df.merge(events_filtered[['track_id', 'group_name']].drop_duplicates(), on='track_id')\n",
    "f = plt.figure(figsize=[10,10])\n",
    "g = sns.boxplot(data=df, x=\"value\", y=\"feature\", hue=\"group_name\", showfliers=False, palette=palette, saturation=1, hue_order=['Group head', 'Group mid', 'Group tail'])\n",
    "g.legend_.set_title(\"\")\n",
    "\n",
    "plt.legend(loc=\"lower right\")\n",
    "plt.xlabel(\"Values\")\n",
    "plt.ylabel(\"Acoustic features\")\n",
    "plt.grid(False)"
   ]
  },
  {
   "cell_type": "code",
   "execution_count": 96,
   "id": "e9d09aaa-3a93-4f4f-80ba-2049ace7c0ed",
   "metadata": {},
   "outputs": [],
   "source": [
    "group_x_user_country = events_filtered[['user_id','track_id', 'country', 'group']].groupby(['group','country']).size().reset_index()\n",
    "group_x_user_country = group_x_user_country.rename(columns={0:'count'})"
   ]
  },
  {
   "cell_type": "code",
   "execution_count": 97,
   "id": "c6adf857-ad70-46d5-a1a8-42c9c3ae8d42",
   "metadata": {},
   "outputs": [
    {
     "data": {
      "text/plain": [
       "45     70.828965\n",
       "92     14.948708\n",
       "139    14.222327\n",
       "Name: count, dtype: float64"
      ]
     },
     "execution_count": 97,
     "metadata": {},
     "output_type": "execute_result"
    }
   ],
   "source": [
    "group_x_user_country[(group_x_user_country['country']=='US')]['count']/3607750*100"
   ]
  },
  {
   "cell_type": "code",
   "execution_count": 98,
   "id": "c36e433c-3b58-4ebc-8f5b-08d415c6d5ae",
   "metadata": {},
   "outputs": [
    {
     "data": {
      "text/html": [
       "<div>\n",
       "<style scoped>\n",
       "    .dataframe tbody tr th:only-of-type {\n",
       "        vertical-align: middle;\n",
       "    }\n",
       "\n",
       "    .dataframe tbody tr th {\n",
       "        vertical-align: top;\n",
       "    }\n",
       "\n",
       "    .dataframe thead th {\n",
       "        text-align: right;\n",
       "    }\n",
       "</style>\n",
       "<table border=\"1\" class=\"dataframe\">\n",
       "  <thead>\n",
       "    <tr style=\"text-align: right;\">\n",
       "      <th></th>\n",
       "      <th>count</th>\n",
       "    </tr>\n",
       "    <tr>\n",
       "      <th>group</th>\n",
       "      <th></th>\n",
       "    </tr>\n",
       "  </thead>\n",
       "  <tbody>\n",
       "    <tr>\n",
       "      <th>1</th>\n",
       "      <td>44.840662</td>\n",
       "    </tr>\n",
       "    <tr>\n",
       "      <th>2</th>\n",
       "      <td>28.749357</td>\n",
       "    </tr>\n",
       "    <tr>\n",
       "      <th>3</th>\n",
       "      <td>26.409981</td>\n",
       "    </tr>\n",
       "  </tbody>\n",
       "</table>\n",
       "</div>"
      ],
      "text/plain": [
       "           count\n",
       "group           \n",
       "1      44.840662\n",
       "2      28.749357\n",
       "3      26.409981"
      ]
     },
     "execution_count": 98,
     "metadata": {},
     "output_type": "execute_result"
    }
   ],
   "source": [
    "group_x_user_country.groupby('group').sum()/group_x_user_country['count'].sum()*100"
   ]
  },
  {
   "cell_type": "code",
   "execution_count": 99,
   "id": "4dbdbae3-4e61-47bf-ba2d-88039fc2b7f5",
   "metadata": {},
   "outputs": [
    {
     "data": {
      "text/html": [
       "<div>\n",
       "<style scoped>\n",
       "    .dataframe tbody tr th:only-of-type {\n",
       "        vertical-align: middle;\n",
       "    }\n",
       "\n",
       "    .dataframe tbody tr th {\n",
       "        vertical-align: top;\n",
       "    }\n",
       "\n",
       "    .dataframe thead th {\n",
       "        text-align: right;\n",
       "    }\n",
       "</style>\n",
       "<table border=\"1\" class=\"dataframe\">\n",
       "  <thead>\n",
       "    <tr style=\"text-align: right;\">\n",
       "      <th></th>\n",
       "      <th>count</th>\n",
       "    </tr>\n",
       "    <tr>\n",
       "      <th>country</th>\n",
       "      <th></th>\n",
       "    </tr>\n",
       "  </thead>\n",
       "  <tbody>\n",
       "    <tr>\n",
       "      <th>US</th>\n",
       "      <td>3607750</td>\n",
       "    </tr>\n",
       "    <tr>\n",
       "      <th>GB</th>\n",
       "      <td>1716139</td>\n",
       "    </tr>\n",
       "    <tr>\n",
       "      <th>RU</th>\n",
       "      <td>1492136</td>\n",
       "    </tr>\n",
       "    <tr>\n",
       "      <th>DE</th>\n",
       "      <td>1485245</td>\n",
       "    </tr>\n",
       "    <tr>\n",
       "      <th>PL</th>\n",
       "      <td>1119884</td>\n",
       "    </tr>\n",
       "    <tr>\n",
       "      <th>BR</th>\n",
       "      <td>1073447</td>\n",
       "    </tr>\n",
       "    <tr>\n",
       "      <th>FI</th>\n",
       "      <td>468426</td>\n",
       "    </tr>\n",
       "    <tr>\n",
       "      <th>NL</th>\n",
       "      <td>452630</td>\n",
       "    </tr>\n",
       "    <tr>\n",
       "      <th>AU</th>\n",
       "      <td>452042</td>\n",
       "    </tr>\n",
       "    <tr>\n",
       "      <th>SE</th>\n",
       "      <td>394992</td>\n",
       "    </tr>\n",
       "  </tbody>\n",
       "</table>\n",
       "</div>"
      ],
      "text/plain": [
       "           count\n",
       "country         \n",
       "US       3607750\n",
       "GB       1716139\n",
       "RU       1492136\n",
       "DE       1485245\n",
       "PL       1119884\n",
       "BR       1073447\n",
       "FI        468426\n",
       "NL        452630\n",
       "AU        452042\n",
       "SE        394992"
      ]
     },
     "execution_count": 99,
     "metadata": {},
     "output_type": "execute_result"
    }
   ],
   "source": [
    "group_x_user_country.groupby('country').sum().sort_values('count', ascending=False).head(10)"
   ]
  },
  {
   "cell_type": "code",
   "execution_count": 100,
   "id": "b4ffda32-b848-415c-a42f-7a6de53e0ff7",
   "metadata": {},
   "outputs": [],
   "source": [
    "#group_x_user_country\n",
    "\n",
    "countries = np.array(group_x_user_country[(group_x_user_country['group']==\"1\")]['country'])\n",
    "g1 = np.array(group_x_user_country[(group_x_user_country['group']==\"1\")]['count'])\n",
    "g2 = np.array(group_x_user_country[(group_x_user_country['group']==\"2\")]['count'])\n",
    "g3 = np.array(group_x_user_country[(group_x_user_country['group']==\"3\")]['count'])\n"
   ]
  },
  {
   "cell_type": "code",
   "execution_count": 101,
   "id": "167e11a7-fde3-4619-ad2b-af490ba588e0",
   "metadata": {},
   "outputs": [
    {
     "data": {
      "image/png": "[encoded data removed]",
      "text/plain": [
       "<Figure size 1440x720 with 1 Axes>"
      ]
     },
     "metadata": {
      "needs_background": "light"
     },
     "output_type": "display_data"
    }
   ],
   "source": [
    "# Distibution number of tracks per country by groups\n",
    "plt.figure(figsize=[20,10])\n",
    "\n",
    "width = 0.7\n",
    "plt.bar(countries, g1, width, color=\"#3b5b92\", label='Group head')\n",
    "plt.bar(countries, g2, width, bottom=g1, color=\"#01889f\", label='Group mid')\n",
    "plt.bar(countries, g3, width, bottom=g1+g2, color=\"#feb308\", label='Group tail')\n",
    "\n",
    "plt.legend(loc=\"upper left\")\n",
    "\n",
    "\n",
    "plt.xlabel(\"User countries\")\n",
    "plt.ylabel(\"Tracks\")\n",
    "plt.show()"
   ]
  }
 ],
 "metadata": {
  "kernelspec": {
   "display_name": "Python 3 (ipykernel)",
   "language": "python",
   "name": "python3"
  },
  "language_info": {
   "codemirror_mode": {
    "name": "ipython",
    "version": 3
   },
   "file_extension": ".py",
   "mimetype": "text/x-python",
   "name": "python",
   "nbconvert_exporter": "python",
   "pygments_lexer": "ipython3",
   "version": "3.9.10"
  }
 },
 "nbformat": 4,
 "nbformat_minor": 5
}
